{
 "cells": [
  {
   "cell_type": "code",
   "execution_count": 1,
   "metadata": {},
   "outputs": [],
   "source": [
    "import talib as ta\n",
    "import pandas as pd\n",
    "import numpy as np"
   ]
  },
  {
   "cell_type": "code",
   "execution_count": 2,
   "metadata": {},
   "outputs": [],
   "source": [
    "data = pd.read_csv('../data/interim/parsed_scraped_data_clipped.csv')"
   ]
  },
  {
   "cell_type": "code",
   "execution_count": 3,
   "metadata": {},
   "outputs": [
    {
     "data": {
      "text/html": [
       "<div>\n",
       "<style scoped>\n",
       "    .dataframe tbody tr th:only-of-type {\n",
       "        vertical-align: middle;\n",
       "    }\n",
       "\n",
       "    .dataframe tbody tr th {\n",
       "        vertical-align: top;\n",
       "    }\n",
       "\n",
       "    .dataframe thead th {\n",
       "        text-align: right;\n",
       "    }\n",
       "</style>\n",
       "<table border=\"1\" class=\"dataframe\">\n",
       "  <thead>\n",
       "    <tr style=\"text-align: right;\">\n",
       "      <th></th>\n",
       "      <th>time</th>\n",
       "      <th>open</th>\n",
       "      <th>high</th>\n",
       "      <th>low</th>\n",
       "      <th>close</th>\n",
       "      <th>tick_volume</th>\n",
       "      <th>spread</th>\n",
       "      <th>real_volume</th>\n",
       "      <th>impact</th>\n",
       "      <th>link_text</th>\n",
       "      <th>sentiment_score</th>\n",
       "    </tr>\n",
       "  </thead>\n",
       "  <tbody>\n",
       "    <tr>\n",
       "      <th>0</th>\n",
       "      <td>2014-01-02 08:15:00</td>\n",
       "      <td>1.37422</td>\n",
       "      <td>1.37492</td>\n",
       "      <td>1.37421</td>\n",
       "      <td>1.37479</td>\n",
       "      <td>415</td>\n",
       "      <td>3</td>\n",
       "      <td>0</td>\n",
       "      <td>Medium Impact Expected</td>\n",
       "      <td>The Spanish manufacturing PMI signalled an imp...</td>\n",
       "      <td>0.65</td>\n",
       "    </tr>\n",
       "    <tr>\n",
       "      <th>1</th>\n",
       "      <td>2014-01-02 08:30:00</td>\n",
       "      <td>1.37484</td>\n",
       "      <td>1.37485</td>\n",
       "      <td>1.37347</td>\n",
       "      <td>1.37355</td>\n",
       "      <td>629</td>\n",
       "      <td>1</td>\n",
       "      <td>0</td>\n",
       "      <td>Medium Impact Expected</td>\n",
       "      <td>The Spanish manufacturing PMI signalled an imp...</td>\n",
       "      <td>0.65</td>\n",
       "    </tr>\n",
       "    <tr>\n",
       "      <th>2</th>\n",
       "      <td>2014-01-02 08:45:00</td>\n",
       "      <td>1.37354</td>\n",
       "      <td>1.37357</td>\n",
       "      <td>1.37254</td>\n",
       "      <td>1.37314</td>\n",
       "      <td>650</td>\n",
       "      <td>1</td>\n",
       "      <td>0</td>\n",
       "      <td>Medium Impact Expected</td>\n",
       "      <td>The Spanish manufacturing PMI signalled an imp...</td>\n",
       "      <td>0.65</td>\n",
       "    </tr>\n",
       "    <tr>\n",
       "      <th>3</th>\n",
       "      <td>2014-01-02 09:00:00</td>\n",
       "      <td>1.37320</td>\n",
       "      <td>1.37325</td>\n",
       "      <td>1.37159</td>\n",
       "      <td>1.37210</td>\n",
       "      <td>833</td>\n",
       "      <td>1</td>\n",
       "      <td>0</td>\n",
       "      <td>Low Impact Expected</td>\n",
       "      <td>The Spanish manufacturing PMI signalled an imp...</td>\n",
       "      <td>0.65</td>\n",
       "    </tr>\n",
       "    <tr>\n",
       "      <th>4</th>\n",
       "      <td>2014-01-02 09:15:00</td>\n",
       "      <td>1.37207</td>\n",
       "      <td>1.37252</td>\n",
       "      <td>1.37162</td>\n",
       "      <td>1.37184</td>\n",
       "      <td>806</td>\n",
       "      <td>1</td>\n",
       "      <td>0</td>\n",
       "      <td>Low Impact Expected</td>\n",
       "      <td>The Spanish manufacturing PMI signalled an imp...</td>\n",
       "      <td>0.65</td>\n",
       "    </tr>\n",
       "  </tbody>\n",
       "</table>\n",
       "</div>"
      ],
      "text/plain": [
       "                  time     open     high      low    close  tick_volume  \\\n",
       "0  2014-01-02 08:15:00  1.37422  1.37492  1.37421  1.37479          415   \n",
       "1  2014-01-02 08:30:00  1.37484  1.37485  1.37347  1.37355          629   \n",
       "2  2014-01-02 08:45:00  1.37354  1.37357  1.37254  1.37314          650   \n",
       "3  2014-01-02 09:00:00  1.37320  1.37325  1.37159  1.37210          833   \n",
       "4  2014-01-02 09:15:00  1.37207  1.37252  1.37162  1.37184          806   \n",
       "\n",
       "   spread  real_volume                  impact  \\\n",
       "0       3            0  Medium Impact Expected   \n",
       "1       1            0  Medium Impact Expected   \n",
       "2       1            0  Medium Impact Expected   \n",
       "3       1            0     Low Impact Expected   \n",
       "4       1            0     Low Impact Expected   \n",
       "\n",
       "                                           link_text  sentiment_score  \n",
       "0  The Spanish manufacturing PMI signalled an imp...             0.65  \n",
       "1  The Spanish manufacturing PMI signalled an imp...             0.65  \n",
       "2  The Spanish manufacturing PMI signalled an imp...             0.65  \n",
       "3  The Spanish manufacturing PMI signalled an imp...             0.65  \n",
       "4  The Spanish manufacturing PMI signalled an imp...             0.65  "
      ]
     },
     "execution_count": 3,
     "metadata": {},
     "output_type": "execute_result"
    }
   ],
   "source": [
    "data.head()"
   ]
  },
  {
   "cell_type": "code",
   "execution_count": 57,
   "metadata": {},
   "outputs": [
    {
     "data": {
      "text/plain": [
       "270019"
      ]
     },
     "execution_count": 57,
     "metadata": {},
     "output_type": "execute_result"
    }
   ],
   "source": [
    "len(data['close'])"
   ]
  },
  {
   "cell_type": "markdown",
   "metadata": {},
   "source": [
    "#### Momentum Indicators"
   ]
  },
  {
   "cell_type": "code",
   "execution_count": 65,
   "metadata": {},
   "outputs": [],
   "source": [
    "# ADX - Average Directional Movement Index\n",
    "adx_14 = ta.ADX(data['high'], data['low'], data['close'], timeperiod=14)\n"
   ]
  },
  {
   "cell_type": "code",
   "execution_count": 5,
   "metadata": {},
   "outputs": [],
   "source": [
    "# ADX - Average Directional Movement Index Rating\n",
    "adxr_14 = ta.ADXR(data['high'], data['low'], data['close'], timeperiod=14)"
   ]
  },
  {
   "cell_type": "code",
   "execution_count": 6,
   "metadata": {},
   "outputs": [],
   "source": [
    "# TODO APO - Absolute Price Oscillator\n",
    "apo_12_26 = ta.APO(data['close'], fastperiod=12, slowperiod=26, matype=0)\n",
    "\n",
    "# apo_5_15\n",
    "# apo_8_21"
   ]
  },
  {
   "cell_type": "code",
   "execution_count": 7,
   "metadata": {},
   "outputs": [],
   "source": [
    "# AROON - Aroon\n",
    "aroondown_14, aroonup_14 = ta.AROON(data['high'], data['low'], timeperiod=14)"
   ]
  },
  {
   "cell_type": "code",
   "execution_count": 67,
   "metadata": {},
   "outputs": [],
   "source": [
    "# AROONOSC - Aroon Oscillator\n",
    "aroon_osc_14 = ta.AROONOSC(data['high'], data['low'], timeperiod=14)"
   ]
  },
  {
   "cell_type": "code",
   "execution_count": 9,
   "metadata": {},
   "outputs": [],
   "source": [
    "# BOP - Balance Of Power\n",
    "bop = ta.BOP(data['open'], data['high'], data['low'], data['close'])"
   ]
  },
  {
   "cell_type": "code",
   "execution_count": 10,
   "metadata": {},
   "outputs": [],
   "source": [
    "# CCI - Commodity Channel Index\n",
    "cci_14 = ta.CCI(data['high'], data['low'], data['close'], timeperiod=14)"
   ]
  },
  {
   "cell_type": "code",
   "execution_count": 11,
   "metadata": {},
   "outputs": [],
   "source": [
    "# CMO - Chande Momentum Oscillator\n",
    "cmo_14 = ta.CMO(data['close'], timeperiod=14)"
   ]
  },
  {
   "cell_type": "code",
   "execution_count": 12,
   "metadata": {},
   "outputs": [],
   "source": [
    "# DX - Directional Movement Index\n",
    "dx_14 = ta.DX(data['high'], data['low'], data['close'], timeperiod=14)"
   ]
  },
  {
   "cell_type": "code",
   "execution_count": 13,
   "metadata": {},
   "outputs": [],
   "source": [
    "#! TODO MACD - Moving Average Convergence/Divergence\n",
    "macd, macdsignal, macdhist = ta.MACD(\n",
    "    data['close'],\n",
    "    fastperiod=12,\n",
    "    slowperiod=26,\n",
    "    signalperiod=9)\n",
    "\n",
    "# 5, 13, and 6"
   ]
  },
  {
   "cell_type": "code",
   "execution_count": 14,
   "metadata": {},
   "outputs": [],
   "source": [
    "#! TODO MACDEXT - MACD with controllable MA type\n",
    "macd_ext, macdsignal_ext, macdhist_ext = ta.MACDEXT(\n",
    "    data['close'],\n",
    "    fastperiod=12,\n",
    "    fastmatype=0,\n",
    "    slowperiod=26,\n",
    "    slowmatype=0,\n",
    "    signalperiod=9,\n",
    "    signalmatype=0)\n",
    "\n",
    "# 5, 13, and 6"
   ]
  },
  {
   "cell_type": "code",
   "execution_count": 15,
   "metadata": {},
   "outputs": [],
   "source": [
    "# MACDFIX - Moving Average Convergence/Divergence Fix 12/26\n",
    "macd_fix, macdsignal_fix, macdhist_fix = ta.MACDFIX(data['close'], signalperiod=9)"
   ]
  },
  {
   "cell_type": "code",
   "execution_count": 16,
   "metadata": {},
   "outputs": [],
   "source": [
    "# MINUS_DI - Minus Directional Indicator\n",
    "minus_di_14 = ta.MINUS_DI(data['high'], data['low'], data['close'], timeperiod=14)"
   ]
  },
  {
   "cell_type": "code",
   "execution_count": 17,
   "metadata": {},
   "outputs": [],
   "source": [
    "# MINUS_DM - Minus Directional Movement\n",
    "minus_dm_14 = ta.MINUS_DM(data['high'], data['low'], timeperiod=14)"
   ]
  },
  {
   "cell_type": "code",
   "execution_count": 72,
   "metadata": {},
   "outputs": [],
   "source": [
    "#! TODO MOM - Momentum\n",
    "mom_10 = ta.MOM(data['close'], timeperiod=10)\n",
    "\n",
    "# 9 or 14"
   ]
  },
  {
   "cell_type": "code",
   "execution_count": 19,
   "metadata": {},
   "outputs": [],
   "source": [
    "# PLUS_DI - Plus Directional Indicator\n",
    "plus_di_14 = ta.PLUS_DI(data['high'], data['low'], data['close'], timeperiod=14)"
   ]
  },
  {
   "cell_type": "code",
   "execution_count": 20,
   "metadata": {},
   "outputs": [],
   "source": [
    "# PLUS_DM - Plus Directional Movement\n",
    "plus_dm_14 = ta.PLUS_DM(data['high'], data['low'], timeperiod=14)"
   ]
  },
  {
   "cell_type": "code",
   "execution_count": 21,
   "metadata": {},
   "outputs": [],
   "source": [
    "#! TODO PPO - Percentage Price Oscillator\n",
    "ppo_12_26 = ta.PPO(data['close'], fastperiod=12, slowperiod=26, matype=0)\n",
    "\n",
    "# 5 and 13"
   ]
  },
  {
   "cell_type": "code",
   "execution_count": 22,
   "metadata": {},
   "outputs": [],
   "source": [
    "#! TODO ROC - Rate of change : ((price/prevPrice)-1)*100\n",
    "roc_10 = ta.ROC(data['close'], timeperiod=10)\n",
    "\n",
    "# 5 and 14"
   ]
  },
  {
   "cell_type": "code",
   "execution_count": 23,
   "metadata": {},
   "outputs": [],
   "source": [
    "#! TODO ROCP - Rate of change Percentage: (price-prevPrice)/prevPrice\n",
    "rocp_10 = ta.ROCP(data['close'], timeperiod=10)\n",
    "\n",
    "# 5 and 14"
   ]
  },
  {
   "cell_type": "code",
   "execution_count": 24,
   "metadata": {},
   "outputs": [],
   "source": [
    "#! TODO ROCR - Rate of change ratio: (price/prevPrice)\n",
    "rocr_10 = ta.ROCR(data['close'], timeperiod=10)\n",
    "\n",
    "# 5 and 14"
   ]
  },
  {
   "cell_type": "code",
   "execution_count": 25,
   "metadata": {},
   "outputs": [],
   "source": [
    "#! TODO ROCR100 - Rate of change ratio 100 scale: (price/prevPrice)*100\n",
    "rocr100_10 = ta.ROCR100(data['close'], timeperiod=10)\n",
    "\n",
    "# 5 and 14"
   ]
  },
  {
   "cell_type": "code",
   "execution_count": 26,
   "metadata": {},
   "outputs": [],
   "source": [
    "# RSI - Relative Strength Index\n",
    "rsi_14 = ta.RSI(data['close'], timeperiod=14)"
   ]
  },
  {
   "cell_type": "code",
   "execution_count": 27,
   "metadata": {},
   "outputs": [],
   "source": [
    "# STOCH - Stochastic\n",
    "slowk_3, slowd_3 = ta.STOCH(data['high'], data['low'], data['close'],\n",
    "                        fastk_period=5,\n",
    "                        slowk_period=3,\n",
    "                        slowk_matype=0,\n",
    "                        slowd_period=3,\n",
    "                        slowd_matype=0)"
   ]
  },
  {
   "cell_type": "code",
   "execution_count": 28,
   "metadata": {},
   "outputs": [],
   "source": [
    "# STOCHF - Stochastic Fast\n",
    "fastk_5, fastd_3 = ta.STOCHF(data['high'], data['low'], data['close'],\n",
    "                         fastk_period=5,\n",
    "                         fastd_period=3,\n",
    "                         fastd_matype=0)"
   ]
  },
  {
   "cell_type": "code",
   "execution_count": 29,
   "metadata": {},
   "outputs": [],
   "source": [
    "#! TODO STOCHRSI - Stochastic Relative Strength Index\n",
    "fastk_rsi_14_5, fastd_rsi_14_3= ta.STOCHRSI(data['close'],\n",
    "                           timeperiod=14,\n",
    "                           fastk_period=5,\n",
    "                           fastd_period=3,\n",
    "                           fastd_matype=0)\n",
    "\n",
    "# period 5 or 10"
   ]
  },
  {
   "cell_type": "code",
   "execution_count": 30,
   "metadata": {},
   "outputs": [],
   "source": [
    "#! TODO TRIX - 1-day Rate-Of-Change (ROC) of a Triple Smooth EMA\n",
    "trix_30 = ta.TRIX(data['close'], timeperiod=30)\n",
    "\n",
    "# Add ema_9\n",
    "# period 5, 9, 14"
   ]
  },
  {
   "cell_type": "code",
   "execution_count": 31,
   "metadata": {},
   "outputs": [],
   "source": [
    "# ULTOSC - Ultimate Oscillator\n",
    "ult_osc_7_14_28 = ta.ULTOSC(data['high'], data['low'], data['close'],\n",
    "                 timeperiod1=7,\n",
    "                 timeperiod2=14,\n",
    "                 timeperiod3=28)"
   ]
  },
  {
   "cell_type": "code",
   "execution_count": 32,
   "metadata": {},
   "outputs": [],
   "source": [
    "#! TODO WILLR - Williams' %R\n",
    "willr_14 = ta.WILLR(data['high'], data['low'], data['close'], timeperiod=14)\n",
    "\n",
    "# 7 and 21"
   ]
  },
  {
   "cell_type": "markdown",
   "metadata": {},
   "source": [
    "#### Overlap Studies"
   ]
  },
  {
   "cell_type": "code",
   "execution_count": 33,
   "metadata": {},
   "outputs": [],
   "source": [
    "#! TODO BBANDS - Bollinger Bands\n",
    "upperband_5, middleband_5, lowerband_5 = ta.BBANDS(data['close'],\n",
    "                                             timeperiod=5,\n",
    "                                             nbdevup=2,\n",
    "                                             nbdevdn=2,\n",
    "                                             matype=0)\n",
    "\n",
    "# period 10 or 50"
   ]
  },
  {
   "cell_type": "code",
   "execution_count": 34,
   "metadata": {},
   "outputs": [],
   "source": [
    "#! TODO DEMA - Double Exponential Moving Average\n",
    "dema_30 = ta.DEMA(data['close'], timeperiod=30)\n",
    "\n",
    "# period 10 or 20"
   ]
  },
  {
   "cell_type": "code",
   "execution_count": 35,
   "metadata": {},
   "outputs": [],
   "source": [
    "#! TODO EMA - Exponential Moving Average\n",
    "ema_30 = ta.EMA(data[\"close\"], timeperiod=30)\n",
    "\n",
    "# period 10, 20, 50"
   ]
  },
  {
   "cell_type": "code",
   "execution_count": 36,
   "metadata": {},
   "outputs": [],
   "source": [
    "# HT_TRENDLINE - Hilbert Transform - Instantaneous Trendline\n",
    "ht_trendline = ta.HT_TRENDLINE(data[\"close\"])"
   ]
  },
  {
   "cell_type": "code",
   "execution_count": 37,
   "metadata": {},
   "outputs": [],
   "source": [
    "#! TODO KAMA - Kaufman Adaptive Moving Average\n",
    "kama_30 = ta.KAMA(data[\"close\"], timeperiod=30)\n",
    "\n",
    "# 10, 15"
   ]
  },
  {
   "cell_type": "code",
   "execution_count": 38,
   "metadata": {},
   "outputs": [],
   "source": [
    "#! TODO MA - Moving average\n",
    "ma_30 = ta.MA(data[\"close\"], timeperiod=30, matype=0)\n",
    "\n",
    "# 5, 10, 20, 50, 200"
   ]
  },
  {
   "cell_type": "code",
   "execution_count": 39,
   "metadata": {},
   "outputs": [],
   "source": [
    "#! TODO MAMA - MESA Adaptive Moving Average\n",
    "mama, fama = ta.MAMA(data[\"close\"], fastlimit=0.5, slowlimit=0.05)\n",
    "\n",
    "# 5, 20\n",
    "# 20, 50"
   ]
  },
  {
   "cell_type": "code",
   "execution_count": 40,
   "metadata": {},
   "outputs": [],
   "source": [
    "# MAVP - Moving average with variable period\n",
    "periods_mavp = 15 + 5 * np.sin(np.linspace(0, 2 * np.pi, len(data['close'])))\n",
    "mavp = ta.MAVP(data['close'], periods=periods_mavp, minperiod=2, maxperiod=30, matype=0)"
   ]
  },
  {
   "cell_type": "code",
   "execution_count": 41,
   "metadata": {},
   "outputs": [],
   "source": [
    "# MIDPOINT - MidPoint over period\n",
    "midpoint_14 = ta.MIDPOINT(data['close'], timeperiod=14)"
   ]
  },
  {
   "cell_type": "code",
   "execution_count": 42,
   "metadata": {},
   "outputs": [],
   "source": [
    "# MIDPRICE - Midpoint Price over period\n",
    "midprice_14 = ta.MIDPRICE(data['high'], data['low'], timeperiod=14)"
   ]
  },
  {
   "cell_type": "code",
   "execution_count": 43,
   "metadata": {},
   "outputs": [],
   "source": [
    "# SAR - Parabolic SAR\n",
    "sar = ta.SAR(data['high'], data['low'], acceleration=0.02, maximum=0.2)"
   ]
  },
  {
   "cell_type": "code",
   "execution_count": 44,
   "metadata": {},
   "outputs": [],
   "source": [
    "# SAREXT - Parabolic SAR - Extended\n",
    "sarext = ta.SAREXT(\n",
    "    data['high'],\n",
    "    data['low'],\n",
    "    startvalue=0,\n",
    "    offsetonreverse=0,\n",
    "    accelerationinitlong=0.02,\n",
    "    accelerationlong=0.02,\n",
    "    accelerationmaxlong=0.2,\n",
    "    accelerationinitshort=0.02,\n",
    "    accelerationshort=0.02,\n",
    "    accelerationmaxshort=0.2\n",
    ")"
   ]
  },
  {
   "cell_type": "code",
   "execution_count": 45,
   "metadata": {},
   "outputs": [],
   "source": [
    "#! TODO SMA - Simple Moving Average\n",
    "sma_30 = ta.SMA(sar, timeperiod=30)\n",
    "\n",
    "# period 10, 20, 50, 200"
   ]
  },
  {
   "cell_type": "code",
   "execution_count": 46,
   "metadata": {},
   "outputs": [],
   "source": [
    "# T3 - Triple Exponential Moving Average (T3)\n",
    "t3_5 = ta.T3(data['close'], timeperiod=5, vfactor=0.7)\n",
    "\n",
    "# period 9 or 14"
   ]
  },
  {
   "cell_type": "code",
   "execution_count": 47,
   "metadata": {},
   "outputs": [],
   "source": [
    "#! TODO TEMA - Triple Exponential Moving Average\n",
    "tema_30 = ta.TEMA(data['close'], timeperiod=30)\n",
    "\n",
    "# 9, 14, 21"
   ]
  },
  {
   "cell_type": "code",
   "execution_count": 48,
   "metadata": {},
   "outputs": [],
   "source": [
    "# TRIMA - Triangular Moving Average\n",
    "trima_30 = ta.TRIMA(data['close'], timeperiod=30)\n",
    "\n",
    "# 9, 14, 21"
   ]
  },
  {
   "cell_type": "code",
   "execution_count": 49,
   "metadata": {},
   "outputs": [],
   "source": [
    "# WMA - Weighted Moving Average\n",
    "wma_30 = ta.WMA(data['close'], timeperiod=30)\n",
    "\n",
    "# 9, 14, 50"
   ]
  },
  {
   "cell_type": "markdown",
   "metadata": {},
   "source": [
    "#### Volatility"
   ]
  },
  {
   "cell_type": "code",
   "execution_count": 50,
   "metadata": {},
   "outputs": [],
   "source": [
    "#! TODO ATR - Average True Range\n",
    "atr_14 = ta.ATR(data['high'], data['low'], data['close'], timeperiod=14)\n",
    "\n",
    "# period 7, 21"
   ]
  },
  {
   "cell_type": "code",
   "execution_count": 51,
   "metadata": {},
   "outputs": [],
   "source": [
    "# NATR - Normalized Average True Range\n",
    "natr_14 = ta.NATR(data['high'], data['low'], data['close'], timeperiod=14)\n",
    "\n",
    "# period 7, 21"
   ]
  },
  {
   "cell_type": "code",
   "execution_count": 52,
   "metadata": {},
   "outputs": [],
   "source": [
    "# TRANGE - True Range\n",
    "trange = ta.TRANGE(data['high'], data['low'], data['close'])"
   ]
  },
  {
   "cell_type": "markdown",
   "metadata": {},
   "source": [
    "#### Price Transform"
   ]
  },
  {
   "cell_type": "code",
   "execution_count": 53,
   "metadata": {},
   "outputs": [],
   "source": [
    "# AVGPRICE - Average Price\n",
    "avg_price = ta.AVGPRICE(data['open'], data['high'], data['low'], data['close'])"
   ]
  },
  {
   "cell_type": "code",
   "execution_count": 54,
   "metadata": {},
   "outputs": [],
   "source": [
    "# MEDPRICE - Median Price\n",
    "med_price = ta.MEDPRICE(data['high'], data['low'])"
   ]
  },
  {
   "cell_type": "code",
   "execution_count": 55,
   "metadata": {},
   "outputs": [],
   "source": [
    "# TYPPRICE - Typical Price\n",
    "typ_price = ta.TYPPRICE(data['high'], data['low'], data['close'])"
   ]
  },
  {
   "cell_type": "code",
   "execution_count": 56,
   "metadata": {},
   "outputs": [],
   "source": [
    "# WCLPRICE - Weighted Close Price\n",
    "wcl_price = ta.WCLPRICE(data['high'], data['low'], data['close'])"
   ]
  },
  {
   "cell_type": "code",
   "execution_count": null,
   "metadata": {},
   "outputs": [],
   "source": []
  }
 ],
 "metadata": {
  "kernelspec": {
   "display_name": ".venv",
   "language": "python",
   "name": "python3"
  },
  "language_info": {
   "codemirror_mode": {
    "name": "ipython",
    "version": 3
   },
   "file_extension": ".py",
   "mimetype": "text/x-python",
   "name": "python",
   "nbconvert_exporter": "python",
   "pygments_lexer": "ipython3",
   "version": "3.10.11"
  }
 },
 "nbformat": 4,
 "nbformat_minor": 2
}
