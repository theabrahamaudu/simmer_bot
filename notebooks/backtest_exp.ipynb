{
 "cells": [
  {
   "cell_type": "code",
   "execution_count": 1,
   "metadata": {},
   "outputs": [],
   "source": [
    "import os\n",
    "import datetime\n",
    "os.chdir('..')\n",
    "import pandas as pd\n",
    "import numpy as np\n",
    "from tqdm import tqdm\n",
    "import joblib\n",
    "from backtesting import Backtest, Strategy\n",
    "from src.models.predict_model import PredictModel\n",
    "from src.features.preprocess_pipeline import InferencePreprocessPipeline"
   ]
  },
  {
   "cell_type": "code",
   "execution_count": 31,
   "metadata": {},
   "outputs": [],
   "source": [
    "pd.set_option('display.max_rows', 500)\n",
    "pd.set_option('display.max_columns', 640)"
   ]
  },
  {
   "cell_type": "markdown",
   "metadata": {},
   "source": [
    "#### Prep Data"
   ]
  },
  {
   "cell_type": "code",
   "execution_count": 2,
   "metadata": {},
   "outputs": [],
   "source": [
    "prepared_train_data = pd.read_csv(\"../data/processed/series_train_preprocessed.csv\")\n",
    "prepared_test_data = pd.read_csv(\"../data/processed/series_test_preprocessed.csv\")\n",
    "prepared_validation_data = pd.read_csv(\"../data/processed/series_validate_preprocessed.csv\")"
   ]
  },
  {
   "cell_type": "code",
   "execution_count": 3,
   "metadata": {},
   "outputs": [],
   "source": [
    "X_train = prepared_train_data.drop('target', axis=1)\n",
    "y_train = prepared_train_data['target']\n",
    "\n",
    "X_test = prepared_test_data.drop('target', axis=1)\n",
    "y_test = prepared_test_data['target']\n",
    "\n",
    "X_val = prepared_validation_data.drop('target', axis=1)\n",
    "y_val = prepared_validation_data['target']\n",
    "\n",
    "top_20_features_final = joblib.load(\"../artefacts/top_20_features_final.pkl\")\n",
    "\n",
    "X_train_20_final = X_train[top_20_features_final]\n",
    "X_test_20_final = X_test[top_20_features_final]\n",
    "X_val_20_final = X_val[top_20_features_final]\n",
    "\n",
    "# reshape the data\n",
    "def reshape_data(X_train, X_test, X_val):\n",
    "    timesteps = 1\n",
    "    X_train = X_train.values.reshape(-1, timesteps, len(X_train.columns))\n",
    "    X_test = X_test.values.reshape(-1, timesteps, len(X_test.columns))\n",
    "    X_val = X_val.values.reshape(-1, timesteps, len(X_val.columns))\n",
    "    return X_train, X_test, X_val\n",
    "\n",
    "X_train_20_final_gru, X_test_20_final_gru, X_val_20_final_gru = reshape_data(\n",
    "    X_train_20_final,\n",
    "    X_test_20_final,\n",
    "    X_val_20_final)"
   ]
  },
  {
   "cell_type": "code",
   "execution_count": 4,
   "metadata": {},
   "outputs": [],
   "source": [
    "os.chdir('..')"
   ]
  },
  {
   "cell_type": "code",
   "execution_count": 4,
   "metadata": {},
   "outputs": [
    {
     "data": {
      "text/html": [
       "<div>\n",
       "<style scoped>\n",
       "    .dataframe tbody tr th:only-of-type {\n",
       "        vertical-align: middle;\n",
       "    }\n",
       "\n",
       "    .dataframe tbody tr th {\n",
       "        vertical-align: top;\n",
       "    }\n",
       "\n",
       "    .dataframe thead th {\n",
       "        text-align: right;\n",
       "    }\n",
       "</style>\n",
       "<table border=\"1\" class=\"dataframe\">\n",
       "  <thead>\n",
       "    <tr style=\"text-align: right;\">\n",
       "      <th></th>\n",
       "      <th>high_t</th>\n",
       "      <th>tema_14_t</th>\n",
       "      <th>wcl_price_t</th>\n",
       "      <th>med_price_t-2</th>\n",
       "      <th>med_price_t</th>\n",
       "      <th>close_t</th>\n",
       "      <th>typ_price_t</th>\n",
       "      <th>avg_price_t</th>\n",
       "      <th>tema_9_t</th>\n",
       "      <th>open_t</th>\n",
       "      <th>typ_price_t-1</th>\n",
       "      <th>wcl_price_t-2</th>\n",
       "      <th>dema_10_t-1</th>\n",
       "      <th>close_t-1</th>\n",
       "      <th>upperband_5_t</th>\n",
       "      <th>tema_14_t-1</th>\n",
       "      <th>middleband_5_t</th>\n",
       "      <th>ma_5_t</th>\n",
       "      <th>med_price_t-1</th>\n",
       "      <th>tema_9_t-1</th>\n",
       "    </tr>\n",
       "  </thead>\n",
       "  <tbody>\n",
       "    <tr>\n",
       "      <th>0</th>\n",
       "      <td>0.227233</td>\n",
       "      <td>0.228873</td>\n",
       "      <td>0.229047</td>\n",
       "      <td>0.229325</td>\n",
       "      <td>0.229235</td>\n",
       "      <td>0.229233</td>\n",
       "      <td>0.228985</td>\n",
       "      <td>0.229024</td>\n",
       "      <td>0.22871</td>\n",
       "      <td>0.229556</td>\n",
       "      <td>0.228962</td>\n",
       "      <td>0.229329</td>\n",
       "      <td>0.228957</td>\n",
       "      <td>0.229616</td>\n",
       "      <td>0.225662</td>\n",
       "      <td>0.229066</td>\n",
       "      <td>0.228298</td>\n",
       "      <td>0.228298</td>\n",
       "      <td>0.229008</td>\n",
       "      <td>0.228929</td>\n",
       "    </tr>\n",
       "  </tbody>\n",
       "</table>\n",
       "</div>"
      ],
      "text/plain": [
       "     high_t  tema_14_t  wcl_price_t  med_price_t-2  med_price_t   close_t  \\\n",
       "0  0.227233   0.228873     0.229047       0.229325     0.229235  0.229233   \n",
       "\n",
       "   typ_price_t  avg_price_t  tema_9_t    open_t  typ_price_t-1  wcl_price_t-2  \\\n",
       "0     0.228985     0.229024   0.22871  0.229556       0.228962       0.229329   \n",
       "\n",
       "   dema_10_t-1  close_t-1  upperband_5_t  tema_14_t-1  middleband_5_t  \\\n",
       "0     0.228957   0.229616       0.225662     0.229066        0.228298   \n",
       "\n",
       "     ma_5_t  med_price_t-1  tema_9_t-1  \n",
       "0  0.228298       0.229008    0.228929  "
      ]
     },
     "execution_count": 4,
     "metadata": {},
     "output_type": "execute_result"
    }
   ],
   "source": [
    "X_test_20_final.loc[[0],:]"
   ]
  },
  {
   "cell_type": "markdown",
   "metadata": {},
   "source": [
    "#### Random Shit"
   ]
  },
  {
   "cell_type": "code",
   "execution_count": 25,
   "metadata": {},
   "outputs": [
    {
     "name": "stdout",
     "output_type": "stream",
     "text": [
      "WARNING:tensorflow:Layer gru_4 will not use cuDNN kernels since it doesn't meet the criteria. It will use a generic GPU kernel as fallback when running on GPU.\n",
      "WARNING:tensorflow:Layer gru_5 will not use cuDNN kernels since it doesn't meet the criteria. It will use a generic GPU kernel as fallback when running on GPU.\n"
     ]
    }
   ],
   "source": [
    "stacker = PredictModel()\n"
   ]
  },
  {
   "cell_type": "code",
   "execution_count": 7,
   "metadata": {},
   "outputs": [
    {
     "name": "stdout",
     "output_type": "stream",
     "text": [
      "1/1 [==============================] - 0s 26ms/step\n"
     ]
    },
    {
     "data": {
      "text/plain": [
       "1.0562469265871743"
      ]
     },
     "execution_count": 7,
     "metadata": {},
     "output_type": "execute_result"
    }
   ],
   "source": [
    "stacker.stack_predict(pd.DataFrame(X_test_20_final.loc[[2],:]))"
   ]
  },
  {
   "cell_type": "code",
   "execution_count": 13,
   "metadata": {},
   "outputs": [],
   "source": [
    "X_test_exp = X_test.copy()\n",
    "new_cols = [col[:-2] if col.endswith('_t') else col for col in X_test.columns]\n",
    "X_test_exp.columns = new_cols"
   ]
  },
  {
   "cell_type": "code",
   "execution_count": 17,
   "metadata": {},
   "outputs": [
    {
     "data": {
      "text/plain": [
       "Index(['open_t-6', 'high_t-6', 'low_t-6', 'close_t-6', 'tick_volume_t-6',\n",
       "       'spread_t-6', 'real_volume_t-6', 'impact_t-6', 'sentiment_score_t-6',\n",
       "       'adx_14_t-6',\n",
       "       ...\n",
       "       'atr_7', 'atr_21', 'natr_14', 'natr_7', 'natr_21', 'trange',\n",
       "       'avg_price', 'med_price', 'typ_price', 'wcl_price'],\n",
       "      dtype='object', length=945)"
      ]
     },
     "execution_count": 17,
     "metadata": {},
     "output_type": "execute_result"
    }
   ],
   "source": [
    "X_test_exp.columns\n",
    "# forecast = X_test_exp['close'].iloc[-1]\n",
    "# forecast\n",
    "# perc_diff = (forecast - self.data['close'].iloc[-1]) / self.data['close'].iloc[-1] * 100"
   ]
  },
  {
   "cell_type": "code",
   "execution_count": 7,
   "metadata": {},
   "outputs": [],
   "source": [
    "test_data_raw = pd.read_csv(\"./data/processed/test_preprocessed.csv\")"
   ]
  },
  {
   "cell_type": "code",
   "execution_count": 19,
   "metadata": {},
   "outputs": [
    {
     "data": {
      "text/plain": [
       "Index(['time', 'open', 'high', 'low', 'close', 'tick_volume', 'spread',\n",
       "       'real_volume', 'impact', 'sentiment_score',\n",
       "       ...\n",
       "       'atr_21', 'natr_14', 'natr_7', 'natr_21', 'trange', 'avg_price',\n",
       "       'med_price', 'typ_price', 'wcl_price', 'target'],\n",
       "      dtype='object', length=137)"
      ]
     },
     "execution_count": 19,
     "metadata": {},
     "output_type": "execute_result"
    }
   ],
   "source": [
    "test_data_raw.columns"
   ]
  },
  {
   "cell_type": "code",
   "execution_count": 20,
   "metadata": {},
   "outputs": [
    {
     "name": "stderr",
     "output_type": "stream",
     "text": [
      "c:\\Users\\ab6ri\\OneDrive\\Documents\\Personal_Projects\\simmer_bot\\.venv\\lib\\site-packages\\sklearn\\base.py:376: InconsistentVersionWarning: Trying to unpickle estimator MinMaxScaler from version 1.6.0 when using version 1.5.2. This might lead to breaking code or invalid results. Use at your own risk. For more info please refer to:\n",
      "https://scikit-learn.org/stable/model_persistence.html#security-maintainability-limitations\n",
      "  warnings.warn(\n"
     ]
    }
   ],
   "source": [
    "scaler = joblib.load(\"../artefacts/scaler.pkl\")\n",
    "dummy = np.zeros((1, 136))\n",
    "\n",
    "def __invTransform(scaler, data: float, dummy: np.ndarray, col_idx: int=3) -> float:\n",
    "    data = np.asarray([data])\n",
    "    dummy[:, col_idx] = data\n",
    "    dummy = pd.DataFrame(scaler.inverse_transform(dummy))\n",
    "    return dummy.iloc[:, col_idx].values[0]"
   ]
  },
  {
   "cell_type": "code",
   "execution_count": 21,
   "metadata": {},
   "outputs": [],
   "source": [
    "vanilla_test_data = pd.read_csv(\"../data/interim/parsed_scraped_data_clipped.csv\")"
   ]
  },
  {
   "cell_type": "code",
   "execution_count": 62,
   "metadata": {},
   "outputs": [
    {
     "data": {
      "text/plain": [
       "243042"
      ]
     },
     "execution_count": 62,
     "metadata": {},
     "output_type": "execute_result"
    }
   ],
   "source": [
    "len(vanilla_test_data['time']) - len(test_data_raw['close'])"
   ]
  },
  {
   "cell_type": "code",
   "execution_count": 31,
   "metadata": {},
   "outputs": [],
   "source": [
    "assert len(test_data_raw['close']) == len(vanilla_test_data['close'].iloc[-len(test_data_raw['close']):])"
   ]
  },
  {
   "cell_type": "code",
   "execution_count": 63,
   "metadata": {},
   "outputs": [
    {
     "data": {
      "text/plain": [
       "'2023-10-16 23:30:00'"
      ]
     },
     "execution_count": 63,
     "metadata": {},
     "output_type": "execute_result"
    }
   ],
   "source": [
    "test_data_raw['time'].iloc[0]"
   ]
  },
  {
   "cell_type": "code",
   "execution_count": 77,
   "metadata": {},
   "outputs": [
    {
     "data": {
      "text/plain": [
       "1.05272"
      ]
     },
     "execution_count": 77,
     "metadata": {},
     "output_type": "execute_result"
    }
   ],
   "source": [
    "vanilla_test_data['close'].iloc[-(len(test_data_raw['close'])+199)]"
   ]
  },
  {
   "cell_type": "code",
   "execution_count": 90,
   "metadata": {},
   "outputs": [
    {
     "data": {
      "text/plain": [
       "True"
      ]
     },
     "execution_count": 90,
     "metadata": {},
     "output_type": "execute_result"
    }
   ],
   "source": [
    "len(vanilla_test_data.iloc[-(len(test_data_raw['close'])):-6]) == len(X_test_20_final['close_t'])"
   ]
  },
  {
   "cell_type": "code",
   "execution_count": 68,
   "metadata": {},
   "outputs": [],
   "source": [
    "last_close = __invTransform(scaler, test_data_raw['close'].iloc[-2], dummy, 3)\n",
    "assert last_close == vanilla_test_data['close'].iloc[-7]\n",
    "# last_close"
   ]
  },
  {
   "cell_type": "code",
   "execution_count": 81,
   "metadata": {},
   "outputs": [
    {
     "name": "stdout",
     "output_type": "stream",
     "text": [
      "percentage difference:  1.0311952 %\n"
     ]
    }
   ],
   "source": [
    "ind =5000\n",
    "precc_difff = (last_close - vanilla_test_data['close'].iloc[-ind]) / vanilla_test_data['close'].iloc[-ind] * 100\n",
    "precc_difff = last_close - 0.02 * last_close\n",
    "print(\"percentage difference: \", precc_difff, \"%\")"
   ]
  },
  {
   "cell_type": "code",
   "execution_count": 75,
   "metadata": {},
   "outputs": [
    {
     "data": {
      "text/plain": [
       "0.06334499999999998"
      ]
     },
     "execution_count": 75,
     "metadata": {},
     "output_type": "execute_result"
    }
   ],
   "source": [
    "1.119095 - 1.05575 "
   ]
  },
  {
   "cell_type": "markdown",
   "metadata": {},
   "source": [
    "#### Backtesting"
   ]
  },
  {
   "cell_type": "code",
   "execution_count": 20,
   "metadata": {},
   "outputs": [],
   "source": [
    "raw_data = pd.read_csv(\"./data/interim/merged_scrapped_n_price.csv\")\n",
    "top_20_features_final = joblib.load(\"./artefacts/top_20_features_final.pkl\")\n"
   ]
  },
  {
   "cell_type": "code",
   "execution_count": 4,
   "metadata": {},
   "outputs": [],
   "source": [
    "# Len test data => 26977"
   ]
  },
  {
   "cell_type": "code",
   "execution_count": 17,
   "metadata": {},
   "outputs": [],
   "source": [
    "data_points = 26977"
   ]
  },
  {
   "cell_type": "code",
   "execution_count": 21,
   "metadata": {},
   "outputs": [],
   "source": [
    "backtest_raw_data = raw_data.iloc[-(data_points+205):,:]\n",
    "backtest_raw_data.reset_index(drop=True, inplace=True)"
   ]
  },
  {
   "cell_type": "code",
   "execution_count": 6,
   "metadata": {},
   "outputs": [
    {
     "name": "stderr",
     "output_type": "stream",
     "text": [
      "Parsing news articles...: 100%|██████████| 27182/27182 [00:04<00:00, 6492.05article(s)/s]\n",
      "Preparing time series data: 100%|█████████▉| 26977/26983 [00:14<00:00, 1919.00 rows/s]\n"
     ]
    }
   ],
   "source": [
    "model_data = InferencePreprocessPipeline(backtest_raw_data).run()[top_20_features_final]"
   ]
  },
  {
   "cell_type": "code",
   "execution_count": 7,
   "metadata": {},
   "outputs": [
    {
     "data": {
      "text/html": [
       "<div>\n",
       "<style scoped>\n",
       "    .dataframe tbody tr th:only-of-type {\n",
       "        vertical-align: middle;\n",
       "    }\n",
       "\n",
       "    .dataframe tbody tr th {\n",
       "        vertical-align: top;\n",
       "    }\n",
       "\n",
       "    .dataframe thead th {\n",
       "        text-align: right;\n",
       "    }\n",
       "</style>\n",
       "<table border=\"1\" class=\"dataframe\">\n",
       "  <thead>\n",
       "    <tr style=\"text-align: right;\">\n",
       "      <th></th>\n",
       "      <th>high_t</th>\n",
       "      <th>tema_14_t</th>\n",
       "      <th>wcl_price_t</th>\n",
       "      <th>med_price_t-2</th>\n",
       "      <th>med_price_t</th>\n",
       "      <th>close_t</th>\n",
       "      <th>typ_price_t</th>\n",
       "      <th>avg_price_t</th>\n",
       "      <th>tema_9_t</th>\n",
       "      <th>open_t</th>\n",
       "      <th>typ_price_t-1</th>\n",
       "      <th>wcl_price_t-2</th>\n",
       "      <th>dema_10_t-1</th>\n",
       "      <th>close_t-1</th>\n",
       "      <th>upperband_5_t</th>\n",
       "      <th>tema_14_t-1</th>\n",
       "      <th>middleband_5_t</th>\n",
       "      <th>ma_5_t</th>\n",
       "      <th>med_price_t-1</th>\n",
       "      <th>tema_9_t-1</th>\n",
       "    </tr>\n",
       "  </thead>\n",
       "  <tbody>\n",
       "    <tr>\n",
       "      <th>0</th>\n",
       "      <td>0.226715</td>\n",
       "      <td>0.229066</td>\n",
       "      <td>0.229126</td>\n",
       "      <td>0.229042</td>\n",
       "      <td>0.229008</td>\n",
       "      <td>0.229616</td>\n",
       "      <td>0.228962</td>\n",
       "      <td>0.229047</td>\n",
       "      <td>0.228929</td>\n",
       "      <td>0.229714</td>\n",
       "      <td>0.229203</td>\n",
       "      <td>0.229120</td>\n",
       "      <td>0.229005</td>\n",
       "      <td>0.229707</td>\n",
       "      <td>0.225750</td>\n",
       "      <td>0.229133</td>\n",
       "      <td>0.228438</td>\n",
       "      <td>0.228438</td>\n",
       "      <td>0.229325</td>\n",
       "      <td>0.228977</td>\n",
       "    </tr>\n",
       "    <tr>\n",
       "      <th>1</th>\n",
       "      <td>0.227233</td>\n",
       "      <td>0.228873</td>\n",
       "      <td>0.229047</td>\n",
       "      <td>0.229325</td>\n",
       "      <td>0.229235</td>\n",
       "      <td>0.229233</td>\n",
       "      <td>0.228985</td>\n",
       "      <td>0.229024</td>\n",
       "      <td>0.228710</td>\n",
       "      <td>0.229556</td>\n",
       "      <td>0.228962</td>\n",
       "      <td>0.229329</td>\n",
       "      <td>0.228957</td>\n",
       "      <td>0.229616</td>\n",
       "      <td>0.225662</td>\n",
       "      <td>0.229066</td>\n",
       "      <td>0.228298</td>\n",
       "      <td>0.228298</td>\n",
       "      <td>0.229008</td>\n",
       "      <td>0.228929</td>\n",
       "    </tr>\n",
       "    <tr>\n",
       "      <th>2</th>\n",
       "      <td>0.226265</td>\n",
       "      <td>0.228675</td>\n",
       "      <td>0.228719</td>\n",
       "      <td>0.229008</td>\n",
       "      <td>0.228714</td>\n",
       "      <td>0.229098</td>\n",
       "      <td>0.228593</td>\n",
       "      <td>0.228656</td>\n",
       "      <td>0.228506</td>\n",
       "      <td>0.229263</td>\n",
       "      <td>0.228985</td>\n",
       "      <td>0.229126</td>\n",
       "      <td>0.228788</td>\n",
       "      <td>0.229233</td>\n",
       "      <td>0.225717</td>\n",
       "      <td>0.228873</td>\n",
       "      <td>0.228202</td>\n",
       "      <td>0.228202</td>\n",
       "      <td>0.229235</td>\n",
       "      <td>0.228710</td>\n",
       "    </tr>\n",
       "    <tr>\n",
       "      <th>3</th>\n",
       "      <td>0.226355</td>\n",
       "      <td>0.228634</td>\n",
       "      <td>0.228917</td>\n",
       "      <td>0.229235</td>\n",
       "      <td>0.228794</td>\n",
       "      <td>0.229414</td>\n",
       "      <td>0.228751</td>\n",
       "      <td>0.228747</td>\n",
       "      <td>0.228537</td>\n",
       "      <td>0.229150</td>\n",
       "      <td>0.228593</td>\n",
       "      <td>0.229047</td>\n",
       "      <td>0.228614</td>\n",
       "      <td>0.229098</td>\n",
       "      <td>0.225669</td>\n",
       "      <td>0.228675</td>\n",
       "      <td>0.228171</td>\n",
       "      <td>0.228171</td>\n",
       "      <td>0.228714</td>\n",
       "      <td>0.228506</td>\n",
       "    </tr>\n",
       "    <tr>\n",
       "      <th>4</th>\n",
       "      <td>0.226355</td>\n",
       "      <td>0.228452</td>\n",
       "      <td>0.228657</td>\n",
       "      <td>0.228714</td>\n",
       "      <td>0.228703</td>\n",
       "      <td>0.228985</td>\n",
       "      <td>0.228548</td>\n",
       "      <td>0.228673</td>\n",
       "      <td>0.228355</td>\n",
       "      <td>0.229466</td>\n",
       "      <td>0.228751</td>\n",
       "      <td>0.228719</td>\n",
       "      <td>0.228587</td>\n",
       "      <td>0.229414</td>\n",
       "      <td>0.225519</td>\n",
       "      <td>0.228634</td>\n",
       "      <td>0.228025</td>\n",
       "      <td>0.228025</td>\n",
       "      <td>0.228794</td>\n",
       "      <td>0.228537</td>\n",
       "    </tr>\n",
       "  </tbody>\n",
       "</table>\n",
       "</div>"
      ],
      "text/plain": [
       "     high_t  tema_14_t  wcl_price_t  med_price_t-2  med_price_t   close_t  \\\n",
       "0  0.226715   0.229066     0.229126       0.229042     0.229008  0.229616   \n",
       "1  0.227233   0.228873     0.229047       0.229325     0.229235  0.229233   \n",
       "2  0.226265   0.228675     0.228719       0.229008     0.228714  0.229098   \n",
       "3  0.226355   0.228634     0.228917       0.229235     0.228794  0.229414   \n",
       "4  0.226355   0.228452     0.228657       0.228714     0.228703  0.228985   \n",
       "\n",
       "   typ_price_t  avg_price_t  tema_9_t    open_t  typ_price_t-1  wcl_price_t-2  \\\n",
       "0     0.228962     0.229047  0.228929  0.229714       0.229203       0.229120   \n",
       "1     0.228985     0.229024  0.228710  0.229556       0.228962       0.229329   \n",
       "2     0.228593     0.228656  0.228506  0.229263       0.228985       0.229126   \n",
       "3     0.228751     0.228747  0.228537  0.229150       0.228593       0.229047   \n",
       "4     0.228548     0.228673  0.228355  0.229466       0.228751       0.228719   \n",
       "\n",
       "   dema_10_t-1  close_t-1  upperband_5_t  tema_14_t-1  middleband_5_t  \\\n",
       "0     0.229005   0.229707       0.225750     0.229133        0.228438   \n",
       "1     0.228957   0.229616       0.225662     0.229066        0.228298   \n",
       "2     0.228788   0.229233       0.225717     0.228873        0.228202   \n",
       "3     0.228614   0.229098       0.225669     0.228675        0.228171   \n",
       "4     0.228587   0.229414       0.225519     0.228634        0.228025   \n",
       "\n",
       "     ma_5_t  med_price_t-1  tema_9_t-1  \n",
       "0  0.228438       0.229325    0.228977  \n",
       "1  0.228298       0.229008    0.228929  \n",
       "2  0.228202       0.229235    0.228710  \n",
       "3  0.228171       0.228714    0.228506  \n",
       "4  0.228025       0.228794    0.228537  "
      ]
     },
     "execution_count": 7,
     "metadata": {},
     "output_type": "execute_result"
    }
   ],
   "source": [
    "model_data.head()"
   ]
  },
  {
   "cell_type": "code",
   "execution_count": 8,
   "metadata": {},
   "outputs": [
    {
     "data": {
      "text/plain": [
       "26977"
      ]
     },
     "execution_count": 8,
     "metadata": {},
     "output_type": "execute_result"
    }
   ],
   "source": [
    "len(model_data)"
   ]
  },
  {
   "cell_type": "code",
   "execution_count": 9,
   "metadata": {},
   "outputs": [
    {
     "name": "stdout",
     "output_type": "stream",
     "text": [
      "WARNING:tensorflow:Layer gru_4 will not use cuDNN kernels since it doesn't meet the criteria. It will use a generic GPU kernel as fallback when running on GPU.\n",
      "WARNING:tensorflow:Layer gru_5 will not use cuDNN kernels since it doesn't meet the criteria. It will use a generic GPU kernel as fallback when running on GPU.\n"
     ]
    },
    {
     "name": "stderr",
     "output_type": "stream",
     "text": [
      "100%|██████████| 26977/26977 [29:31<00:00, 15.23 rows/s]\n"
     ]
    }
   ],
   "source": [
    "predictions = []\n",
    "model = PredictModel()\n",
    "for index, row in tqdm(model_data.iterrows(), total=len(model_data), unit=\" rows\"):\n",
    "    predictions.append(model.stack_predict(pd.DataFrame(model_data.loc[[index],:])))"
   ]
  },
  {
   "cell_type": "code",
   "execution_count": 10,
   "metadata": {},
   "outputs": [
    {
     "data": {
      "text/plain": [
       "['./data/processed/predictions.pkl']"
      ]
     },
     "execution_count": 10,
     "metadata": {},
     "output_type": "execute_result"
    }
   ],
   "source": [
    "# save predictions\n",
    "joblib.dump(\n",
    "    predictions,\n",
    "    \"./data/processed/predictions.pkl\"\n",
    ")"
   ]
  },
  {
   "cell_type": "code",
   "execution_count": 22,
   "metadata": {},
   "outputs": [
    {
     "data": {
      "text/html": [
       "<div>\n",
       "<style scoped>\n",
       "    .dataframe tbody tr th:only-of-type {\n",
       "        vertical-align: middle;\n",
       "    }\n",
       "\n",
       "    .dataframe tbody tr th {\n",
       "        vertical-align: top;\n",
       "    }\n",
       "\n",
       "    .dataframe thead th {\n",
       "        text-align: right;\n",
       "    }\n",
       "</style>\n",
       "<table border=\"1\" class=\"dataframe\">\n",
       "  <thead>\n",
       "    <tr style=\"text-align: right;\">\n",
       "      <th></th>\n",
       "      <th>time</th>\n",
       "      <th>open</th>\n",
       "      <th>high</th>\n",
       "      <th>low</th>\n",
       "      <th>close</th>\n",
       "      <th>tick_volume</th>\n",
       "      <th>spread</th>\n",
       "      <th>real_volume</th>\n",
       "      <th>impact</th>\n",
       "      <th>link_text</th>\n",
       "    </tr>\n",
       "  </thead>\n",
       "  <tbody>\n",
       "    <tr>\n",
       "      <th>0</th>\n",
       "      <td>2023-10-12 21:30:00</td>\n",
       "      <td>1.05342</td>\n",
       "      <td>1.05363</td>\n",
       "      <td>1.05299</td>\n",
       "      <td>1.05321</td>\n",
       "      <td>881</td>\n",
       "      <td>14</td>\n",
       "      <td>0</td>\n",
       "      <td>Low Impact Expected</td>\n",
       "      <td>Italian industrial production data has seen so...</td>\n",
       "    </tr>\n",
       "    <tr>\n",
       "      <th>1</th>\n",
       "      <td>2023-10-12 21:45:00</td>\n",
       "      <td>1.05320</td>\n",
       "      <td>1.05337</td>\n",
       "      <td>1.05250</td>\n",
       "      <td>1.05262</td>\n",
       "      <td>604</td>\n",
       "      <td>14</td>\n",
       "      <td>0</td>\n",
       "      <td>Low Impact Expected</td>\n",
       "      <td>Italian industrial production data has seen so...</td>\n",
       "    </tr>\n",
       "    <tr>\n",
       "      <th>2</th>\n",
       "      <td>2023-10-12 22:00:00</td>\n",
       "      <td>1.05262</td>\n",
       "      <td>1.05318</td>\n",
       "      <td>1.05258</td>\n",
       "      <td>1.05283</td>\n",
       "      <td>571</td>\n",
       "      <td>14</td>\n",
       "      <td>0</td>\n",
       "      <td>Low Impact Expected</td>\n",
       "      <td>Italian industrial production data has seen so...</td>\n",
       "    </tr>\n",
       "    <tr>\n",
       "      <th>3</th>\n",
       "      <td>2023-10-12 22:15:00</td>\n",
       "      <td>1.05282</td>\n",
       "      <td>1.05313</td>\n",
       "      <td>1.05280</td>\n",
       "      <td>1.05304</td>\n",
       "      <td>448</td>\n",
       "      <td>14</td>\n",
       "      <td>0</td>\n",
       "      <td>Low Impact Expected</td>\n",
       "      <td>Italian industrial production data has seen so...</td>\n",
       "    </tr>\n",
       "    <tr>\n",
       "      <th>4</th>\n",
       "      <td>2023-10-12 22:30:00</td>\n",
       "      <td>1.05302</td>\n",
       "      <td>1.05333</td>\n",
       "      <td>1.05293</td>\n",
       "      <td>1.05293</td>\n",
       "      <td>552</td>\n",
       "      <td>14</td>\n",
       "      <td>0</td>\n",
       "      <td>Low Impact Expected</td>\n",
       "      <td>Italian industrial production data has seen so...</td>\n",
       "    </tr>\n",
       "  </tbody>\n",
       "</table>\n",
       "</div>"
      ],
      "text/plain": [
       "                  time     open     high      low    close  tick_volume  \\\n",
       "0  2023-10-12 21:30:00  1.05342  1.05363  1.05299  1.05321          881   \n",
       "1  2023-10-12 21:45:00  1.05320  1.05337  1.05250  1.05262          604   \n",
       "2  2023-10-12 22:00:00  1.05262  1.05318  1.05258  1.05283          571   \n",
       "3  2023-10-12 22:15:00  1.05282  1.05313  1.05280  1.05304          448   \n",
       "4  2023-10-12 22:30:00  1.05302  1.05333  1.05293  1.05293          552   \n",
       "\n",
       "   spread  real_volume               impact  \\\n",
       "0      14            0  Low Impact Expected   \n",
       "1      14            0  Low Impact Expected   \n",
       "2      14            0  Low Impact Expected   \n",
       "3      14            0  Low Impact Expected   \n",
       "4      14            0  Low Impact Expected   \n",
       "\n",
       "                                           link_text  \n",
       "0  Italian industrial production data has seen so...  \n",
       "1  Italian industrial production data has seen so...  \n",
       "2  Italian industrial production data has seen so...  \n",
       "3  Italian industrial production data has seen so...  \n",
       "4  Italian industrial production data has seen so...  "
      ]
     },
     "execution_count": 22,
     "metadata": {},
     "output_type": "execute_result"
    }
   ],
   "source": [
    "backtest_raw_data.head()"
   ]
  },
  {
   "cell_type": "code",
   "execution_count": 23,
   "metadata": {},
   "outputs": [],
   "source": [
    "proper_cols = [\n",
    "    'time', 'Open', 'High', 'Low', 'Close', 'Volume', 'spread',\n",
    "    'real_volume', 'impact', 'link_text']\n",
    "bt_data = backtest_raw_data.copy()\n",
    "bt_data = bt_data.iloc[-(data_points):,:]\n",
    "bt_data.reset_index(drop=True, inplace=True)\n",
    "bt_data.set_index(pd.to_datetime(bt_data['time']), drop=False, inplace=True)\n",
    "bt_data.columns=proper_cols\n",
    "bt_data.index.name=None"
   ]
  },
  {
   "cell_type": "code",
   "execution_count": 24,
   "metadata": {},
   "outputs": [
    {
     "data": {
      "text/plain": [
       "2024-10-03 17:00:00    1.10257\n",
       "2024-10-03 17:15:00    1.10276\n",
       "2024-10-03 17:30:00    1.10129\n",
       "2024-10-03 17:45:00    1.10163\n",
       "2024-10-03 18:00:00    1.10177\n",
       "2024-10-03 18:15:00    1.10117\n",
       "2024-10-03 18:30:00    1.10180\n",
       "2024-10-03 18:45:00    1.10137\n",
       "2024-10-03 19:00:00    1.10201\n",
       "2024-10-03 19:15:00    1.10241\n",
       "2024-10-03 19:30:00    1.10293\n",
       "2024-10-03 19:45:00    1.10295\n",
       "2024-10-03 20:00:00    1.10342\n",
       "2024-10-03 20:15:00    1.10310\n",
       "2024-10-03 20:30:00    1.10334\n",
       "2024-10-03 20:45:00    1.10321\n",
       "2024-10-03 21:00:00    1.10296\n",
       "2024-10-03 21:15:00    1.10322\n",
       "2024-10-03 21:30:00    1.10282\n",
       "2024-10-03 21:45:00    1.10252\n",
       "2024-10-03 22:00:00    1.10255\n",
       "2024-10-03 22:15:00    1.10302\n",
       "2024-10-03 22:30:00    1.10282\n",
       "2024-10-03 22:45:00    1.10276\n",
       "2024-10-03 23:00:00    1.10257\n",
       "2024-10-03 23:15:00    1.10278\n",
       "2024-10-03 23:30:00    1.10276\n",
       "2024-10-03 23:45:00    1.10292\n",
       "2024-10-04 00:00:00    1.10301\n",
       "2024-10-04 00:15:00    1.10301\n",
       "2024-10-04 00:30:00    1.10302\n",
       "2024-10-04 00:45:00    1.10306\n",
       "2024-10-04 01:00:00    1.10320\n",
       "2024-10-04 01:15:00    1.10329\n",
       "2024-10-04 01:30:00    1.10333\n",
       "2024-10-04 01:45:00    1.10335\n",
       "2024-10-04 02:00:00    1.10337\n",
       "2024-10-04 02:15:00    1.10342\n",
       "2024-10-04 02:30:00    1.10350\n",
       "2024-10-04 02:45:00    1.10343\n",
       "2024-10-04 03:00:00    1.10371\n",
       "2024-10-04 03:15:00    1.10372\n",
       "2024-10-04 03:30:00    1.10335\n",
       "2024-10-04 03:45:00    1.10338\n",
       "2024-10-04 04:00:00    1.10317\n",
       "2024-10-04 04:15:00    1.10308\n",
       "2024-10-04 04:30:00    1.10329\n",
       "2024-10-04 04:45:00    1.10291\n",
       "2024-10-04 05:00:00    1.10298\n",
       "2024-10-04 05:15:00    1.10322\n",
       "2024-10-04 05:30:00    1.10316\n",
       "2024-10-04 05:45:00    1.10297\n",
       "2024-10-04 06:00:00    1.10263\n",
       "2024-10-04 06:15:00    1.10256\n",
       "2024-10-04 06:30:00    1.10252\n",
       "2024-10-04 06:45:00    1.10263\n",
       "2024-10-04 07:00:00    1.10268\n",
       "2024-10-04 07:15:00    1.10280\n",
       "2024-10-04 07:30:00    1.10248\n",
       "2024-10-04 07:45:00    1.10268\n",
       "2024-10-04 08:00:00    1.10281\n",
       "2024-10-04 08:15:00    1.10292\n",
       "2024-10-04 08:30:00    1.10323\n",
       "2024-10-04 08:45:00    1.10325\n",
       "2024-10-04 09:00:00    1.10308\n",
       "2024-10-04 09:15:00    1.10300\n",
       "2024-10-04 09:30:00    1.10319\n",
       "2024-10-04 09:45:00    1.10312\n",
       "2024-10-04 10:00:00    1.10323\n",
       "2024-10-04 10:15:00    1.10321\n",
       "2024-10-04 10:30:00    1.10315\n",
       "2024-10-04 10:45:00    1.10271\n",
       "2024-10-04 11:00:00    1.10272\n",
       "2024-10-04 11:15:00    1.10239\n",
       "2024-10-04 11:30:00    1.10258\n",
       "2024-10-04 11:45:00    1.10247\n",
       "2024-10-04 12:00:00    1.10217\n",
       "2024-10-04 12:15:00    1.10248\n",
       "2024-10-04 12:30:00    1.10250\n",
       "2024-10-04 12:45:00    1.10263\n",
       "2024-10-04 13:00:00    1.10273\n",
       "2024-10-04 13:15:00    1.10281\n",
       "2024-10-04 13:30:00    1.10306\n",
       "2024-10-04 13:45:00    1.10267\n",
       "2024-10-04 14:00:00    1.10291\n",
       "2024-10-04 14:15:00    1.10309\n",
       "2024-10-04 14:30:00    1.10334\n",
       "2024-10-04 14:45:00    1.10315\n",
       "2024-10-04 15:00:00    1.10277\n",
       "2024-10-04 15:15:00    1.10295\n",
       "2024-10-04 15:30:00    1.09671\n",
       "2024-10-04 15:45:00    1.09602\n",
       "2024-10-04 16:00:00    1.09718\n",
       "2024-10-04 16:15:00    1.09635\n",
       "2024-10-04 16:30:00    1.09762\n",
       "2024-10-04 16:45:00    1.09724\n",
       "2024-10-04 17:00:00    1.09740\n",
       "2024-10-04 17:15:00    1.09704\n",
       "2024-10-04 17:30:00    1.09725\n",
       "2024-10-04 17:45:00    1.09687\n",
       "Name: Close, dtype: float64"
      ]
     },
     "execution_count": 24,
     "metadata": {},
     "output_type": "execute_result"
    }
   ],
   "source": [
    "bt_data.Close.head(100)"
   ]
  },
  {
   "cell_type": "code",
   "execution_count": 25,
   "metadata": {},
   "outputs": [],
   "source": [
    "def percentage_difference_in_pips(price1: float, price2: float, pip_size=0.0001) -> float:\n",
    "    \"\"\"\n",
    "    Calculate the pole-sensitive percentage difference in pips between two prices.\n",
    "    \n",
    "    Parameters:\n",
    "        price1 (float): The first price.\n",
    "        price2 (float): The second price.\n",
    "        pip_size (float): The size of a pip (default is 0.0001).\n",
    "        \n",
    "    Returns:\n",
    "        float: The pole-sensitive percentage difference.\n",
    "    \"\"\"\n",
    "    # Calculate the price difference\n",
    "    difference = price2 - price1\n",
    "    \n",
    "    # Convert difference to pips\n",
    "    pip_difference = difference / pip_size\n",
    "    \n",
    "    # Calculate percentage difference\n",
    "    percentage_difference = (pip_difference / (price1 / pip_size)) * 100\n",
    "    \n",
    "    return percentage_difference\n"
   ]
  },
  {
   "cell_type": "code",
   "execution_count": 26,
   "metadata": {},
   "outputs": [],
   "source": [
    "def pip_difference(price1, price2, pip_size=0.0001):\n",
    "    \"\"\"\n",
    "    Calculate the pole-sensitive pip difference between two prices.\n",
    "    \n",
    "    Parameters:\n",
    "        price1 (float): The first price.\n",
    "        price2 (float): The second price.\n",
    "        pip_size (float): The size of a pip (default is 0.0001).\n",
    "        \n",
    "    Returns:\n",
    "        float: The pole-sensitive pip difference.\n",
    "    \"\"\"\n",
    "    # Calculate the price difference\n",
    "    difference = price1 - price2\n",
    "    \n",
    "    # Convert difference to pips\n",
    "    pip_difference = difference / pip_size\n",
    "    \n",
    "    return pip_difference"
   ]
  },
  {
   "cell_type": "code",
   "execution_count": 58,
   "metadata": {},
   "outputs": [],
   "source": [
    "class MyStrategy(Strategy):\n",
    "    predictions = predictions\n",
    "    sl_perc = 0.002\n",
    "    tp_perc = 0.006\n",
    "    buy_threshold = 0.004\n",
    "    sell_threshold = 0.004\n",
    "    close_days = 1\n",
    "\n",
    "    def init(self):\n",
    "        super().init()\n",
    "        self.predictions = predictions\n",
    "        self.idx = 0\n",
    "        self.trade_size = 0.5\n",
    "\n",
    "\n",
    "\n",
    "    def next(self):\n",
    "        super().next()\n",
    "        forecast = self.predictions[self.idx]\n",
    "\n",
    "        current_price = self.data['Close'][-1]\n",
    "\n",
    "        # Check and close trades open for more than 1 day\n",
    "        for trade in self.trades:\n",
    "            if self.data.index[-1] - trade.entry_time >= datetime.timedelta(days=int(self.close_days)):\n",
    "                trade.close()\n",
    "                # print(\"closed overdue trade >>\", trade.value)\n",
    "        \n",
    "        # Buy logic\n",
    "        if forecast > current_price * (1 + self.buy_threshold) and not self.position:\n",
    "            sl = current_price * (1 - self.sl_perc)\n",
    "            tp = forecast  # Use model's forecast as target price\n",
    "            self.buy(size=self.trade_size, tp=tp, sl=sl)\n",
    "\n",
    "        # Sell logic\n",
    "        elif forecast < current_price * (1 - self.sell_threshold) and not self.position:\n",
    "            sl = current_price * (1 + self.sl_perc)\n",
    "            tp = forecast  # Use model's forecast as target price\n",
    "            self.sell(size=self.trade_size, tp=tp, sl=sl)\n",
    "\n",
    "        # increment the index\n",
    "        self.idx += 1\n"
   ]
  },
  {
   "cell_type": "code",
   "execution_count": 59,
   "metadata": {},
   "outputs": [
    {
     "name": "stderr",
     "output_type": "stream",
     "text": [
      "c:\\Users\\ab6ri\\OneDrive\\Documents\\Personal_Projects\\simmer_bot\\.venv\\lib\\site-packages\\backtesting\\backtesting.py:1488: UserWarning: Searching for best of 3200 configurations.\n",
      "  output = _optimize_grid()\n"
     ]
    },
    {
     "data": {
      "application/vnd.jupyter.widget-view+json": {
       "model_id": "6cc4acff19734383a1389589450f88d1",
       "version_major": 2,
       "version_minor": 0
      },
      "text/plain": [
       "  0%|          | 0/16 [00:00<?, ?it/s]"
      ]
     },
     "metadata": {},
     "output_type": "display_data"
    }
   ],
   "source": [
    "bt = Backtest(data=bt_data, strategy=MyStrategy, cash=300, margin=1/5, commission=0.0002)\n",
    "stats, heatmap = bt.optimize(\n",
    "    close_days=[i for i in range(1, 3)],\n",
    "    sl_perc=[i/1000 for i in range(1, 9)],  # Expanding the range for stop loss\n",
    "    tp_perc=[i/1000 for i in range(1, 9)],  # Expanding the range for take profit\n",
    "    buy_threshold=[i/1000 for i in range(1, 6)],  # Testing different buy thresholds\n",
    "    sell_threshold=[i/1000 for i in range(1, 6)],  # Testing different sell thresholds\n",
    "    maximize='Return [%]', max_tries=5000,\n",
    "    random_state=0,\n",
    "    return_heatmap=True\n",
    ")"
   ]
  },
  {
   "cell_type": "code",
   "execution_count": 60,
   "metadata": {},
   "outputs": [
    {
     "data": {
      "text/plain": [
       "Start                     2023-10-17 00:45:00\n",
       "End                       2024-11-15 23:45:00\n",
       "Duration                    395 days 23:00:00\n",
       "Exposure Time [%]                   17.755866\n",
       "Equity Final [$]                   315.205783\n",
       "Equity Peak [$]                     318.46637\n",
       "Return [%]                           5.068594\n",
       "Buy & Hold Return [%]               -0.197958\n",
       "Return (Ann.) [%]                    3.821141\n",
       "Volatility (Ann.) [%]                7.187014\n",
       "Sharpe Ratio                         0.531673\n",
       "Sortino Ratio                        0.741469\n",
       "Calmar Ratio                         0.743105\n",
       "Max. Drawdown [%]                   -5.142125\n",
       "Avg. Drawdown [%]                   -0.685669\n",
       "Max. Drawdown Duration      226 days 05:30:00\n",
       "Avg. Drawdown Duration       10 days 18:30:00\n",
       "# Trades                                  107\n",
       "Win Rate [%]                        68.224299\n",
       "Best Trade [%]                       0.500103\n",
       "Worst Trade [%]                     -0.623834\n",
       "Avg. Trade [%]                       0.019174\n",
       "Max. Trade Duration           2 days 09:30:00\n",
       "Avg. Trade Duration           0 days 16:21:00\n",
       "Profit Factor                        1.177566\n",
       "Expectancy [%]                        0.01962\n",
       "SQN                                  0.645092\n",
       "_strategy                 MyStrategy(close...\n",
       "_equity_curve                             ...\n",
       "_trades                        Size  Entry...\n",
       "dtype: object"
      ]
     },
     "execution_count": 60,
     "metadata": {},
     "output_type": "execute_result"
    }
   ],
   "source": [
    "stats"
   ]
  },
  {
   "cell_type": "code",
   "execution_count": 61,
   "metadata": {},
   "outputs": [
    {
     "data": {
      "text/plain": [
       "close_days  sl_perc  tp_perc  buy_threshold  sell_threshold\n",
       "1           0.001    0.001    0.001          0.001            -45.271873\n",
       "                     0.002    0.001          0.001            -45.271873\n",
       "                     0.004    0.001          0.001            -45.271873\n",
       "                     0.005    0.001          0.001            -45.271873\n",
       "                     0.006    0.001          0.001            -45.271873\n",
       "                                                                 ...    \n",
       "            0.006    0.001    0.003          0.001              5.068594\n",
       "                     0.002    0.003          0.001              5.068594\n",
       "                     0.006    0.003          0.001              5.068594\n",
       "                     0.008    0.003          0.001              5.068594\n",
       "                     0.005    0.003          0.001              5.068594\n",
       "Name: Return [%], Length: 3200, dtype: float64"
      ]
     },
     "execution_count": 61,
     "metadata": {},
     "output_type": "execute_result"
    }
   ],
   "source": [
    "heatmap.sort_values()"
   ]
  },
  {
   "cell_type": "code",
   "execution_count": null,
   "metadata": {},
   "outputs": [],
   "source": []
  }
 ],
 "metadata": {
  "kernelspec": {
   "display_name": ".venv",
   "language": "python",
   "name": "python3"
  },
  "language_info": {
   "codemirror_mode": {
    "name": "ipython",
    "version": 3
   },
   "file_extension": ".py",
   "mimetype": "text/x-python",
   "name": "python",
   "nbconvert_exporter": "python",
   "pygments_lexer": "ipython3",
   "version": "3.10.11"
  }
 },
 "nbformat": 4,
 "nbformat_minor": 2
}
