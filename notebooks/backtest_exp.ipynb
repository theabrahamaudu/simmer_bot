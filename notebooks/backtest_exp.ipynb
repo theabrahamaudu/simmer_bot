{
 "cells": [
  {
   "cell_type": "code",
   "execution_count": 1,
   "metadata": {},
   "outputs": [],
   "source": [
    "import os\n",
    "import pandas as pd\n",
    "import numpy as np\n",
    "import joblib\n",
    "from src.models.predict_model import PredictModel"
   ]
  },
  {
   "cell_type": "markdown",
   "metadata": {},
   "source": [
    "#### Prep Data"
   ]
  },
  {
   "cell_type": "code",
   "execution_count": 2,
   "metadata": {},
   "outputs": [],
   "source": [
    "prepared_train_data = pd.read_csv(\"../data/processed/series_train_preprocessed.csv\")\n",
    "prepared_test_data = pd.read_csv(\"../data/processed/series_test_preprocessed.csv\")\n",
    "prepared_validation_data = pd.read_csv(\"../data/processed/series_validate_preprocessed.csv\")"
   ]
  },
  {
   "cell_type": "code",
   "execution_count": 3,
   "metadata": {},
   "outputs": [],
   "source": [
    "X_train = prepared_train_data.drop('target', axis=1)\n",
    "y_train = prepared_train_data['target']\n",
    "\n",
    "X_test = prepared_test_data.drop('target', axis=1)\n",
    "y_test = prepared_test_data['target']\n",
    "\n",
    "X_val = prepared_validation_data.drop('target', axis=1)\n",
    "y_val = prepared_validation_data['target']\n",
    "\n",
    "top_20_features_final = joblib.load(\"../artefacts/top_20_features_final.pkl\")\n",
    "\n",
    "X_train_20_final = X_train[top_20_features_final]\n",
    "X_test_20_final = X_test[top_20_features_final]\n",
    "X_val_20_final = X_val[top_20_features_final]\n",
    "\n",
    "# reshape the data\n",
    "def reshape_data(X_train, X_test, X_val):\n",
    "    timesteps = 1\n",
    "    X_train = X_train.values.reshape(-1, timesteps, len(X_train.columns))\n",
    "    X_test = X_test.values.reshape(-1, timesteps, len(X_test.columns))\n",
    "    X_val = X_val.values.reshape(-1, timesteps, len(X_val.columns))\n",
    "    return X_train, X_test, X_val\n",
    "\n",
    "X_train_20_final_gru, X_test_20_final_gru, X_val_20_final_gru = reshape_data(\n",
    "    X_train_20_final,\n",
    "    X_test_20_final,\n",
    "    X_val_20_final)"
   ]
  },
  {
   "cell_type": "code",
   "execution_count": 4,
   "metadata": {},
   "outputs": [],
   "source": [
    "os.chdir('..')"
   ]
  },
  {
   "cell_type": "code",
   "execution_count": 5,
   "metadata": {},
   "outputs": [
    {
     "data": {
      "text/html": [
       "<div>\n",
       "<style scoped>\n",
       "    .dataframe tbody tr th:only-of-type {\n",
       "        vertical-align: middle;\n",
       "    }\n",
       "\n",
       "    .dataframe tbody tr th {\n",
       "        vertical-align: top;\n",
       "    }\n",
       "\n",
       "    .dataframe thead th {\n",
       "        text-align: right;\n",
       "    }\n",
       "</style>\n",
       "<table border=\"1\" class=\"dataframe\">\n",
       "  <thead>\n",
       "    <tr style=\"text-align: right;\">\n",
       "      <th></th>\n",
       "      <th>high_t</th>\n",
       "      <th>tema_14_t</th>\n",
       "      <th>wcl_price_t</th>\n",
       "      <th>med_price_t-2</th>\n",
       "      <th>med_price_t</th>\n",
       "      <th>close_t</th>\n",
       "      <th>typ_price_t</th>\n",
       "      <th>avg_price_t</th>\n",
       "      <th>tema_9_t</th>\n",
       "      <th>open_t</th>\n",
       "      <th>typ_price_t-1</th>\n",
       "      <th>wcl_price_t-2</th>\n",
       "      <th>dema_10_t-1</th>\n",
       "      <th>close_t-1</th>\n",
       "      <th>upperband_5_t</th>\n",
       "      <th>tema_14_t-1</th>\n",
       "      <th>middleband_5_t</th>\n",
       "      <th>ma_5_t</th>\n",
       "      <th>med_price_t-1</th>\n",
       "      <th>tema_9_t-1</th>\n",
       "    </tr>\n",
       "  </thead>\n",
       "  <tbody>\n",
       "    <tr>\n",
       "      <th>0</th>\n",
       "      <td>0.227233</td>\n",
       "      <td>0.228873</td>\n",
       "      <td>0.229047</td>\n",
       "      <td>0.229325</td>\n",
       "      <td>0.229235</td>\n",
       "      <td>0.229233</td>\n",
       "      <td>0.228985</td>\n",
       "      <td>0.229024</td>\n",
       "      <td>0.22871</td>\n",
       "      <td>0.229556</td>\n",
       "      <td>0.228962</td>\n",
       "      <td>0.229329</td>\n",
       "      <td>0.228957</td>\n",
       "      <td>0.229616</td>\n",
       "      <td>0.225662</td>\n",
       "      <td>0.229066</td>\n",
       "      <td>0.228298</td>\n",
       "      <td>0.228298</td>\n",
       "      <td>0.229008</td>\n",
       "      <td>0.228929</td>\n",
       "    </tr>\n",
       "  </tbody>\n",
       "</table>\n",
       "</div>"
      ],
      "text/plain": [
       "     high_t  tema_14_t  wcl_price_t  med_price_t-2  med_price_t   close_t  \\\n",
       "0  0.227233   0.228873     0.229047       0.229325     0.229235  0.229233   \n",
       "\n",
       "   typ_price_t  avg_price_t  tema_9_t    open_t  typ_price_t-1  wcl_price_t-2  \\\n",
       "0     0.228985     0.229024   0.22871  0.229556       0.228962       0.229329   \n",
       "\n",
       "   dema_10_t-1  close_t-1  upperband_5_t  tema_14_t-1  middleband_5_t  \\\n",
       "0     0.228957   0.229616       0.225662     0.229066        0.228298   \n",
       "\n",
       "     ma_5_t  med_price_t-1  tema_9_t-1  \n",
       "0  0.228298       0.229008    0.228929  "
      ]
     },
     "execution_count": 5,
     "metadata": {},
     "output_type": "execute_result"
    }
   ],
   "source": [
    "X_test_20_final.loc[[0],:]"
   ]
  },
  {
   "cell_type": "markdown",
   "metadata": {},
   "source": [
    "#### Backtesting"
   ]
  },
  {
   "cell_type": "code",
   "execution_count": 6,
   "metadata": {},
   "outputs": [
    {
     "name": "stdout",
     "output_type": "stream",
     "text": [
      "WARNING:tensorflow:Layer gru_4 will not use cuDNN kernels since it doesn't meet the criteria. It will use a generic GPU kernel as fallback when running on GPU.\n",
      "WARNING:tensorflow:Layer gru_5 will not use cuDNN kernels since it doesn't meet the criteria. It will use a generic GPU kernel as fallback when running on GPU.\n"
     ]
    },
    {
     "name": "stderr",
     "output_type": "stream",
     "text": [
      "c:\\Users\\ab6ri\\OneDrive\\Documents\\Personal_Projects\\simmer_bot\\.venv\\lib\\site-packages\\sklearn\\base.py:376: InconsistentVersionWarning: Trying to unpickle estimator MinMaxScaler from version 1.6.0 when using version 1.5.2. This might lead to breaking code or invalid results. Use at your own risk. For more info please refer to:\n",
      "https://scikit-learn.org/stable/model_persistence.html#security-maintainability-limitations\n",
      "  warnings.warn(\n"
     ]
    },
    {
     "name": "stdout",
     "output_type": "stream",
     "text": [
      "1/1 [==============================] - 3s 3s/step\n"
     ]
    },
    {
     "data": {
      "text/plain": [
       "1.0563871354244376"
      ]
     },
     "execution_count": 6,
     "metadata": {},
     "output_type": "execute_result"
    }
   ],
   "source": [
    "stacker = PredictModel()\n"
   ]
  },
  {
   "cell_type": "code",
   "execution_count": 7,
   "metadata": {},
   "outputs": [
    {
     "name": "stdout",
     "output_type": "stream",
     "text": [
      "1/1 [==============================] - 0s 26ms/step\n"
     ]
    },
    {
     "data": {
      "text/plain": [
       "1.0562469265871743"
      ]
     },
     "execution_count": 7,
     "metadata": {},
     "output_type": "execute_result"
    }
   ],
   "source": [
    "stacker.stack_predict(pd.DataFrame(X_test_20_final.loc[[2],:]))"
   ]
  },
  {
   "cell_type": "code",
   "execution_count": null,
   "metadata": {},
   "outputs": [],
   "source": []
  }
 ],
 "metadata": {
  "kernelspec": {
   "display_name": ".venv",
   "language": "python",
   "name": "python3"
  },
  "language_info": {
   "codemirror_mode": {
    "name": "ipython",
    "version": 3
   },
   "file_extension": ".py",
   "mimetype": "text/x-python",
   "name": "python",
   "nbconvert_exporter": "python",
   "pygments_lexer": "ipython3",
   "version": "3.10.11"
  }
 },
 "nbformat": 4,
 "nbformat_minor": 2
}
