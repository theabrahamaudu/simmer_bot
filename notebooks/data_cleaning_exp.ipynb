{
 "cells": [
  {
   "cell_type": "code",
   "execution_count": 1,
   "metadata": {},
   "outputs": [],
   "source": [
    "import pandas as pd"
   ]
  },
  {
   "cell_type": "code",
   "execution_count": 2,
   "metadata": {},
   "outputs": [],
   "source": [
    "sample_news_df = pd.read_csv(\"../data/interim/news_apr01.2016-apr07.2016.csv\")"
   ]
  },
  {
   "cell_type": "code",
   "execution_count": 3,
   "metadata": {},
   "outputs": [
    {
     "data": {
      "text/html": [
       "<div>\n",
       "<style scoped>\n",
       "    .dataframe tbody tr th:only-of-type {\n",
       "        vertical-align: middle;\n",
       "    }\n",
       "\n",
       "    .dataframe tbody tr th {\n",
       "        vertical-align: top;\n",
       "    }\n",
       "\n",
       "    .dataframe thead th {\n",
       "        text-align: right;\n",
       "    }\n",
       "</style>\n",
       "<table border=\"1\" class=\"dataframe\">\n",
       "  <thead>\n",
       "    <tr style=\"text-align: right;\">\n",
       "      <th></th>\n",
       "      <th>date</th>\n",
       "      <th>timestamp</th>\n",
       "      <th>symbol</th>\n",
       "      <th>impact</th>\n",
       "      <th>links</th>\n",
       "      <th>link_text</th>\n",
       "    </tr>\n",
       "  </thead>\n",
       "  <tbody>\n",
       "    <tr>\n",
       "      <th>0</th>\n",
       "      <td>Fri\\nApr 1 2016</td>\n",
       "      <td>NaN</td>\n",
       "      <td>EUR</td>\n",
       "      <td>Medium Impact Expected</td>\n",
       "      <td>['https://www.forexfactory.com/news/585276-fur...</td>\n",
       "      <td>Business conditions in the Spanish manufacturi...</td>\n",
       "    </tr>\n",
       "    <tr>\n",
       "      <th>1</th>\n",
       "      <td>Fri\\nApr 1 2016</td>\n",
       "      <td>8:45am</td>\n",
       "      <td>EUR</td>\n",
       "      <td>Low Impact Expected</td>\n",
       "      <td>['https://www.forexfactory.com/news/585276-fur...</td>\n",
       "      <td>Business conditions in the Spanish manufacturi...</td>\n",
       "    </tr>\n",
       "    <tr>\n",
       "      <th>2</th>\n",
       "      <td>Fri\\nApr 1 2016</td>\n",
       "      <td>8:50am</td>\n",
       "      <td>EUR</td>\n",
       "      <td>Low Impact Expected</td>\n",
       "      <td>['https://www.forexfactory.com/news/585276-fur...</td>\n",
       "      <td>Business conditions in the Spanish manufacturi...</td>\n",
       "    </tr>\n",
       "    <tr>\n",
       "      <th>3</th>\n",
       "      <td>Fri\\nApr 1 2016</td>\n",
       "      <td>8:55am</td>\n",
       "      <td>EUR</td>\n",
       "      <td>Low Impact Expected</td>\n",
       "      <td>['https://www.forexfactory.com/news/585276-fur...</td>\n",
       "      <td>Business conditions in the Spanish manufacturi...</td>\n",
       "    </tr>\n",
       "    <tr>\n",
       "      <th>4</th>\n",
       "      <td>Fri\\nApr 1 2016</td>\n",
       "      <td>9:00am</td>\n",
       "      <td>EUR</td>\n",
       "      <td>Low Impact Expected</td>\n",
       "      <td>['https://www.forexfactory.com/news/585276-fur...</td>\n",
       "      <td>Business conditions in the Spanish manufacturi...</td>\n",
       "    </tr>\n",
       "  </tbody>\n",
       "</table>\n",
       "</div>"
      ],
      "text/plain": [
       "              date timestamp symbol                  impact  \\\n",
       "0  Fri\\nApr 1 2016       NaN    EUR  Medium Impact Expected   \n",
       "1  Fri\\nApr 1 2016    8:45am    EUR     Low Impact Expected   \n",
       "2  Fri\\nApr 1 2016    8:50am    EUR     Low Impact Expected   \n",
       "3  Fri\\nApr 1 2016    8:55am    EUR     Low Impact Expected   \n",
       "4  Fri\\nApr 1 2016    9:00am    EUR     Low Impact Expected   \n",
       "\n",
       "                                               links  \\\n",
       "0  ['https://www.forexfactory.com/news/585276-fur...   \n",
       "1  ['https://www.forexfactory.com/news/585276-fur...   \n",
       "2  ['https://www.forexfactory.com/news/585276-fur...   \n",
       "3  ['https://www.forexfactory.com/news/585276-fur...   \n",
       "4  ['https://www.forexfactory.com/news/585276-fur...   \n",
       "\n",
       "                                           link_text  \n",
       "0  Business conditions in the Spanish manufacturi...  \n",
       "1  Business conditions in the Spanish manufacturi...  \n",
       "2  Business conditions in the Spanish manufacturi...  \n",
       "3  Business conditions in the Spanish manufacturi...  \n",
       "4  Business conditions in the Spanish manufacturi...  "
      ]
     },
     "execution_count": 3,
     "metadata": {},
     "output_type": "execute_result"
    }
   ],
   "source": [
    "sample_news_df.head()"
   ]
  },
  {
   "cell_type": "code",
   "execution_count": null,
   "metadata": {},
   "outputs": [],
   "source": []
  }
 ],
 "metadata": {
  "kernelspec": {
   "display_name": ".venv",
   "language": "python",
   "name": "python3"
  },
  "language_info": {
   "codemirror_mode": {
    "name": "ipython",
    "version": 3
   },
   "file_extension": ".py",
   "mimetype": "text/x-python",
   "name": "python",
   "nbconvert_exporter": "python",
   "pygments_lexer": "ipython3",
   "version": "3.10.11"
  }
 },
 "nbformat": 4,
 "nbformat_minor": 2
}
