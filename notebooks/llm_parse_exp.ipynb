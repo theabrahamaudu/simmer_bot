{
 "cells": [
  {
   "cell_type": "code",
   "execution_count": 1,
   "metadata": {},
   "outputs": [],
   "source": [
    "import time\n",
    "import pandas as pd\n",
    "from langchain_community.llms import ollama\n",
    "from langchain_core.output_parsers import StrOutputParser\n",
    "from langchain.prompts import PromptTemplate"
   ]
  },
  {
   "cell_type": "code",
   "execution_count": 2,
   "metadata": {},
   "outputs": [],
   "source": [
    "data = pd.read_csv(\"../data/interim/cleaned_scraped_data.csv\")"
   ]
  },
  {
   "cell_type": "code",
   "execution_count": 8,
   "metadata": {},
   "outputs": [],
   "source": [
    "prompt_template = \"\"\"\n",
    "    You are an expert financial analyst specialized in currency markets, particularly in evaluating\n",
    "    the impact of news articles on the EURUSD currency pair. Your task is to read the following news\n",
    "    article and analyze its sentiment to determine its bias toward either the Euro (EUR) or\n",
    "    the US Dollar (USD).\n",
    "\n",
    "    Provide a single floating-point value between 0 and 1 that represents this bias:\n",
    "    - 0.0: Extremely bullish for the Euro (EUR)\n",
    "    - 1.0: Extremely bullish for the US Dollar (USD)\n",
    "    - 0.5: Neutral, with no bias toward either currency\n",
    "\n",
    "    **Instructions:**\n",
    "    1. Assess the content of the article for references to economic indicators, policies, or events that could impact the EURUSD currency pair.\n",
    "    2. Weigh any implications of the news against typical market reactions to similar news for the EUR and USD.\n",
    "    3. Avoid explanations or reasoning in your response; provide only the float value.\n",
    "\n",
    "    Example Input:\\n\n",
    "    The European Central Bank is expected to maintain its dovish stance, signaling no immediate rate\n",
    "    hikes despite inflation concerns. Meanwhile, the US Federal Reserve has hinted at a faster pace\n",
    "    of rate hikes to combat inflationary pressures.\n",
    "\n",
    "    Example Output:\\n\n",
    "    0.75\n",
    "\n",
    "    \\n\\n\n",
    "\n",
    "    Article:\\n {article}?\\n\n",
    "\n",
    "    Answer:\n",
    "\"\"\""
   ]
  },
  {
   "cell_type": "code",
   "execution_count": 9,
   "metadata": {},
   "outputs": [],
   "source": [
    "def get_conversational_chain(prompt_template: str, model_name: str= \"llama3\"):\n",
    "    \"\"\"\n",
    "    Set up model parameters and prompt template\n",
    "    \"\"\"\n",
    "\n",
    "    model = ollama.Ollama(\n",
    "        model = model_name,\n",
    "        temperature = 0.0,\n",
    "        verbose=True\n",
    "    )\n",
    "\n",
    "    prompt = PromptTemplate(\n",
    "        template=prompt_template,\n",
    "        input_variables=[\"article\"],\n",
    "    )\n",
    "\n",
    "    chain = prompt | model | StrOutputParser()\n",
    "    return chain"
   ]
  },
  {
   "cell_type": "code",
   "execution_count": 10,
   "metadata": {},
   "outputs": [],
   "source": [
    "def llm_sentiment(prompt_template: str, article: str) -> float:\n",
    "\n",
    "    chain = get_conversational_chain(prompt_template=prompt_template)\n",
    "\n",
    "    start = time.time()\n",
    "    response = chain.invoke(\n",
    "        {\n",
    "            \"article\": article,\n",
    "        },\n",
    "        return_only_outputs=True\n",
    "    )\n",
    "    llm_response_load_time = time.time() - start\n",
    "    print(f\"LLM response load time: {llm_response_load_time:.3f}s\")\n",
    "\n",
    "    return float(response)"
   ]
  },
  {
   "cell_type": "code",
   "execution_count": 14,
   "metadata": {},
   "outputs": [
    {
     "name": "stdout",
     "output_type": "stream",
     "text": [
      "LLM response load time: 2.442s\n"
     ]
    },
    {
     "data": {
      "text/plain": [
       "0.65"
      ]
     },
     "execution_count": 14,
     "metadata": {},
     "output_type": "execute_result"
    }
   ],
   "source": [
    "text = data.loc[6000, \"link_text\"]\n",
    "\n",
    "llm_sentiment(prompt_template=prompt_template, article=text)"
   ]
  },
  {
   "cell_type": "code",
   "execution_count": null,
   "metadata": {},
   "outputs": [],
   "source": []
  }
 ],
 "metadata": {
  "kernelspec": {
   "display_name": ".venv",
   "language": "python",
   "name": "python3"
  },
  "language_info": {
   "codemirror_mode": {
    "name": "ipython",
    "version": 3
   },
   "file_extension": ".py",
   "mimetype": "text/x-python",
   "name": "python",
   "nbconvert_exporter": "python",
   "pygments_lexer": "ipython3",
   "version": "3.10.11"
  }
 },
 "nbformat": 4,
 "nbformat_minor": 2
}
