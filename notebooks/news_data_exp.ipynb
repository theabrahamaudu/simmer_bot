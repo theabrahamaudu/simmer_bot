{
 "cells": [
  {
   "cell_type": "code",
   "execution_count": null,
   "metadata": {},
   "outputs": [],
   "source": [
    "from selenium import webdriver\n",
    "from selenium.webdriver.common.by import By\n",
    "from selenium.webdriver.firefox.options import Options\n",
    "from selenium.webdriver.common.action_chains import ActionChains\n",
    "from selenium.webdriver.common.keys import Keys\n",
    "from selenium.common.exceptions import NoSuchElementException\n",
    "from selenium.webdriver.remote.webelement import WebElement\n",
    "import pandas as pd\n",
    "import yaml\n",
    "from bs4 import BeautifulSoup as bs\n",
    "import requests\n",
    "from uuid import UUID\n",
    "\n",
    "# from src.utils.data_log_config import logger\n"
   ]
  },
  {
   "cell_type": "markdown",
   "metadata": {},
   "source": [
    "#### Get news links"
   ]
  },
  {
   "cell_type": "code",
   "execution_count": null,
   "metadata": {},
   "outputs": [],
   "source": [
    "page_no = 0\n",
    "url = f\"https://www.fxstreet.com/news/latest/asset?q=&hPP=17&idx=FxsIndexPro&p={page_no}&dFR%5BCategory%5D%5B0%5D=News&dFR%5BTags%5D%5B0%5D=EURUSD\""
   ]
  },
  {
   "cell_type": "code",
   "execution_count": 3,
   "metadata": {},
   "outputs": [],
   "source": [
    "wd = webdriver.Chrome()\n",
    "page = wd.get(url)"
   ]
  },
  {
   "cell_type": "code",
   "execution_count": 4,
   "metadata": {},
   "outputs": [],
   "source": [
    "news_boxes = wd.find_elements(\n",
    "    By.CLASS_NAME,\n",
    "    \"ais-hits--item\"\n",
    ")"
   ]
  },
  {
   "cell_type": "code",
   "execution_count": 5,
   "metadata": {},
   "outputs": [
    {
     "data": {
      "text/plain": [
       "17"
      ]
     },
     "execution_count": 5,
     "metadata": {},
     "output_type": "execute_result"
    }
   ],
   "source": [
    "len(news_boxes)"
   ]
  },
  {
   "cell_type": "code",
   "execution_count": 6,
   "metadata": {},
   "outputs": [],
   "source": [
    "news_box = news_boxes[0]\n",
    "\n",
    "def get_news_data(news_box: WebElement) -> dict:\n",
    "    headline = news_box.find_element(\n",
    "        By.CLASS_NAME,\n",
    "        \"fxs_headline_tiny\"\n",
    "    )\n",
    "    headline_text = headline.text\n",
    "    link = headline.find_element(\n",
    "        By.TAG_NAME,\n",
    "        \"a\"\n",
    "    ).get_attribute(\"href\")\n",
    "    date_time = news_box.find_element(\n",
    "        By.TAG_NAME,\n",
    "        \"time\"\n",
    "    ).get_attribute(\"datetime\")\n",
    "\n",
    "    return {\n",
    "        \"date_time\": date_time,\n",
    "        \"headline\": headline_text,\n",
    "        \"link\": link,\n",
    "    }\n"
   ]
  },
  {
   "cell_type": "code",
   "execution_count": 7,
   "metadata": {},
   "outputs": [],
   "source": [
    "news_data = get_news_data(news_box)"
   ]
  },
  {
   "cell_type": "code",
   "execution_count": 8,
   "metadata": {},
   "outputs": [
    {
     "data": {
      "text/plain": [
       "'2024-11-22'"
      ]
     },
     "execution_count": 8,
     "metadata": {},
     "output_type": "execute_result"
    }
   ],
   "source": [
    "news_data[\"date_time\"][:10]"
   ]
  },
  {
   "cell_type": "markdown",
   "metadata": {},
   "source": [
    "#### Get article text"
   ]
  },
  {
   "cell_type": "code",
   "execution_count": 9,
   "metadata": {},
   "outputs": [],
   "source": [
    "def get_article_text(article_link: str) -> str:\n",
    "    news_article = requests.get(article_link)\n",
    "    article_page = bs(news_article.content, \"html.parser\")\n",
    "    return article_page.find('div', class_='fxs_article_body').text"
   ]
  },
  {
   "cell_type": "code",
   "execution_count": 10,
   "metadata": {},
   "outputs": [],
   "source": [
    "article_text = get_article_text(news_data[\"link\"])"
   ]
  },
  {
   "cell_type": "markdown",
   "metadata": {},
   "source": [
    "#### Page parsing logic"
   ]
  },
  {
   "cell_type": "code",
   "execution_count": 13,
   "metadata": {},
   "outputs": [],
   "source": [
    "page_no = 18\n",
    "url = f\"https://www.fxstreet.com/news/latest/asset?q=&hPP=17&idx=FxsIndexPro&p={page_no}&dFR%5BCategory%5D%5B0%5D=News&dFR%5BTags%5D%5B0%5D=EURUSD\""
   ]
  },
  {
   "cell_type": "code",
   "execution_count": null,
   "metadata": {},
   "outputs": [],
   "source": [
    "def scrape_news_data(url: str) -> list:\n",
    "    wd = webdriver.Chrome()\n",
    "    news_data_list = []\n",
    "    page_no = 0\n",
    "    url = f\"https://www.fxstreet.com/news/latest/asset?q=&hPP=17&idx=FxsIndexPro&p={page_no}&dFR%5BCategory%5D%5B0%5D=News&dFR%5BTags%5D%5B0%5D=EURUSD\"\n",
    "\n",
    "    if len(news_data) == 0:\n",
    "        _ = wd.get(url)\n",
    "        news_boxes = wd.find_elements(\n",
    "            By.CLASS_NAME,\n",
    "            \"ais-hits--item\"\n",
    "        )\n",
    "        for news_box in news_boxes:\n",
    "            news_data_list.append(get_news_data(news_box))\n",
    "            page_no += 1\n",
    "\n",
    "    while True:\n",
    "    \n",
    "        if news_data_list[-1][\"date_time\"][:10] != \"2013-12-31\":\n",
    "            break\n",
    "        "
   ]
  },
  {
   "cell_type": "code",
   "execution_count": 18,
   "metadata": {},
   "outputs": [
    {
     "data": {
      "text/plain": [
       "True"
      ]
     },
     "execution_count": 18,
     "metadata": {},
     "output_type": "execute_result"
    }
   ],
   "source": [
    "news_data_list = [news_data]\n",
    "news_data_list[-1][\"date_time\"][:10] == \"2024-11-22\""
   ]
  },
  {
   "cell_type": "code",
   "execution_count": null,
   "metadata": {},
   "outputs": [],
   "source": []
  }
 ],
 "metadata": {
  "kernelspec": {
   "display_name": ".venv",
   "language": "python",
   "name": "python3"
  },
  "language_info": {
   "codemirror_mode": {
    "name": "ipython",
    "version": 3
   },
   "file_extension": ".py",
   "mimetype": "text/x-python",
   "name": "python",
   "nbconvert_exporter": "python",
   "pygments_lexer": "ipython3",
   "version": "3.10.11"
  }
 },
 "nbformat": 4,
 "nbformat_minor": 2
}
