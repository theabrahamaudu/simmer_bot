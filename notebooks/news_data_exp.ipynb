{
 "cells": [
  {
   "cell_type": "code",
   "execution_count": 2,
   "metadata": {},
   "outputs": [],
   "source": [
    "from selenium import webdriver\n",
    "from selenium.webdriver.common.by import By\n",
    "from selenium.webdriver.firefox.options import Options\n",
    "from selenium.webdriver.common.action_chains import ActionChains\n",
    "from selenium.webdriver.common.keys import Keys\n",
    "from selenium.common.exceptions import NoSuchElementException\n",
    "from selenium.webdriver.remote.webelement import WebElement\n",
    "from selenium.webdriver.support.ui import WebDriverWait\n",
    "from selenium.webdriver.support import expected_conditions as EC\n",
    "import pandas as pd\n",
    "from datetime import datetime, timedelta\n",
    "import yaml\n",
    "from bs4 import BeautifulSoup as bs\n",
    "import requests\n",
    "from uuid import UUID\n",
    "\n",
    "# from src.utils.data_log_config import logger\n"
   ]
  },
  {
   "cell_type": "markdown",
   "metadata": {},
   "source": [
    "#### Get news links"
   ]
  },
  {
   "cell_type": "code",
   "execution_count": null,
   "metadata": {},
   "outputs": [],
   "source": [
    "page_no = 0\n",
    "url = f\"https://www.fxstreet.com/news/latest/asset?q=&hPP=17&idx=FxsIndexPro&p={page_no}&dFR%5BCategory%5D%5B0%5D=News&dFR%5BTags%5D%5B0%5D=EURUSD\""
   ]
  },
  {
   "cell_type": "code",
   "execution_count": null,
   "metadata": {},
   "outputs": [],
   "source": [
    "wd = webdriver.Chrome()\n",
    "page = wd.get(url)"
   ]
  },
  {
   "cell_type": "code",
   "execution_count": null,
   "metadata": {},
   "outputs": [],
   "source": [
    "news_boxes = wd.find_elements(\n",
    "    By.CLASS_NAME,\n",
    "    \"ais-hits--item\"\n",
    ")"
   ]
  },
  {
   "cell_type": "code",
   "execution_count": null,
   "metadata": {},
   "outputs": [],
   "source": [
    "len(news_boxes)"
   ]
  },
  {
   "cell_type": "code",
   "execution_count": null,
   "metadata": {},
   "outputs": [],
   "source": [
    "# news_box = news_boxes[0]\n",
    "\n",
    "def get_news_data(news_box: WebElement) -> dict:\n",
    "    headline = news_box.find_element(\n",
    "        By.CLASS_NAME,\n",
    "        \"fxs_headline_tiny\"\n",
    "    )\n",
    "    headline_text = headline.text\n",
    "    link = headline.find_element(\n",
    "        By.TAG_NAME,\n",
    "        \"a\"\n",
    "    ).get_attribute(\"href\")\n",
    "    date_time = news_box.find_element(\n",
    "        By.TAG_NAME,\n",
    "        \"time\"\n",
    "    ).get_attribute(\"datetime\")\n",
    "\n",
    "    return {\n",
    "        \"date_time\": date_time,\n",
    "        \"headline\": headline_text,\n",
    "        \"link\": link,\n",
    "    }\n"
   ]
  },
  {
   "cell_type": "code",
   "execution_count": null,
   "metadata": {},
   "outputs": [],
   "source": [
    "news_data = get_news_data(news_box)"
   ]
  },
  {
   "cell_type": "code",
   "execution_count": null,
   "metadata": {},
   "outputs": [],
   "source": [
    "news_data[\"date_time\"][:10]"
   ]
  },
  {
   "cell_type": "markdown",
   "metadata": {},
   "source": [
    "#### Get article text"
   ]
  },
  {
   "cell_type": "code",
   "execution_count": null,
   "metadata": {},
   "outputs": [],
   "source": [
    "def get_article_text(article_link: str) -> str:\n",
    "    news_article = requests.get(article_link)\n",
    "    article_page = bs(news_article.content, \"html.parser\")\n",
    "    return article_page.find('div', class_='fxs_article_body').text"
   ]
  },
  {
   "cell_type": "code",
   "execution_count": null,
   "metadata": {},
   "outputs": [],
   "source": [
    "article_text = get_article_text(news_data[\"link\"])"
   ]
  },
  {
   "cell_type": "markdown",
   "metadata": {},
   "source": [
    "#### Page parsing logic"
   ]
  },
  {
   "cell_type": "code",
   "execution_count": null,
   "metadata": {},
   "outputs": [],
   "source": [
    "def scrape_news_data(news_data_list: list = None, page_no: int = None) -> list:\n",
    "    wd = webdriver.Chrome()\n",
    "\n",
    "    if news_data_list is None:\n",
    "        news_data_list = []\n",
    "        page_no = 0\n",
    "\n",
    "    \n",
    "\n",
    "    try:\n",
    "        if len(news_data_list) == 0:\n",
    "            url = f\"https://www.fxstreet.com/news/latest/asset?q=&hPP=17&idx=FxsIndexPro&p={page_no}&dFR%5BCategory%5D%5B0%5D=News&dFR%5BTags%5D%5B0%5D=EURUSD\"\n",
    "            _ = wd.get(url)\n",
    "            WebDriverWait(wd, 10).until(\n",
    "                EC.presence_of_all_elements_located((By.CLASS_NAME, \"ais-hits--item\"))\n",
    "            )\n",
    "            news_boxes = wd.find_elements(\n",
    "                By.CLASS_NAME,\n",
    "                \"ais-hits--item\"\n",
    "            )\n",
    "            for news_box in news_boxes:\n",
    "                news_data_list.append(get_news_data(news_box))\n",
    "            page_no += 1\n",
    "\n",
    "        while True:\n",
    "            url = f\"https://www.fxstreet.com/news/latest/asset?q=&hPP=17&idx=FxsIndexPro&p={page_no}&dFR%5BCategory%5D%5B0%5D=News&dFR%5BTags%5D%5B0%5D=EURUSD\"\n",
    "            _ = wd.get(url)\n",
    "            WebDriverWait(wd, 10).until(\n",
    "                EC.presence_of_all_elements_located((By.CLASS_NAME, \"ais-hits--item\"))\n",
    "            )\n",
    "            news_boxes = wd.find_elements(\n",
    "                By.CLASS_NAME,\n",
    "                \"ais-hits--item\"\n",
    "            )\n",
    "            for news_box in news_boxes:\n",
    "                news_data_list.append(get_news_data(news_box))\n",
    "            page_no += 1\n",
    "        \n",
    "            if news_data_list[-1][\"date_time\"][:10] == \"2013-12-31\":\n",
    "                break\n",
    "            else:\n",
    "                continue\n",
    "        wd.quit()\n",
    "        print(f\"Successfully scraped {page_no + 1} pages and {len(news_data_list)} news articles\")\n",
    "        return news_data_list, page_no\n",
    "    except Exception as e:\n",
    "        wd.quit()\n",
    "        print(f\"scraping failed at page {page_no} || {len(news_data_list)} news articles scraped\\n\", e)\n",
    "        return news_data_list, page_no\n",
    "        "
   ]
  },
  {
   "cell_type": "code",
   "execution_count": null,
   "metadata": {},
   "outputs": [],
   "source": [
    "news_data_list = [news_data]\n",
    "news_data_list[-1][\"date_time\"][:10] == \"2024-11-22\""
   ]
  },
  {
   "cell_type": "code",
   "execution_count": null,
   "metadata": {},
   "outputs": [],
   "source": [
    "news_data_test = scrape_news_data()"
   ]
  },
  {
   "cell_type": "code",
   "execution_count": null,
   "metadata": {},
   "outputs": [],
   "source": [
    "news_data_test[0]"
   ]
  },
  {
   "cell_type": "markdown",
   "metadata": {},
   "source": [
    "### Back to forex factory"
   ]
  },
  {
   "cell_type": "code",
   "execution_count": 2,
   "metadata": {},
   "outputs": [],
   "source": [
    "url = \"https://www.forexfactory.com/calendar?range=may1.2014-jun16.2014\""
   ]
  },
  {
   "cell_type": "code",
   "execution_count": 6,
   "metadata": {},
   "outputs": [],
   "source": [
    "options = webdriver.ChromeOptions()\n",
    "options.page_load_strategy = 'none'\n",
    "wd = webdriver.Chrome(options=options)\n",
    "wd.maximize_window()\n",
    "page = wd.get(url)\n",
    "\n",
    "WebDriverWait(wd, 10).until(\n",
    "    EC.presence_of_all_elements_located((By.CSS_SELECTOR,\n",
    "    \"td.calendar__cell.calendar__impact span[title]\"))\n",
    ")\n",
    "wd.execute_script(\"window.stop();\")\n"
   ]
  },
  {
   "cell_type": "code",
   "execution_count": 4,
   "metadata": {},
   "outputs": [],
   "source": [
    "data_rows = wd.find_elements(\n",
    "    By.TAG_NAME,\n",
    "    \"tbody\"\n",
    ")"
   ]
  },
  {
   "cell_type": "code",
   "execution_count": 5,
   "metadata": {},
   "outputs": [
    {
     "data": {
      "text/plain": [
       "18"
      ]
     },
     "execution_count": 5,
     "metadata": {},
     "output_type": "execute_result"
    }
   ],
   "source": [
    "sample = data_rows[1]\n",
    "\n",
    "eur_data = sample.find_elements(\n",
    "    By.CLASS_NAME,\n",
    "    \"calendar__currency\"\n",
    ")\n",
    "\n",
    "one_data = sample.find_elements(\n",
    "    By.TAG_NAME,\n",
    "    \"tr\"\n",
    ")\n",
    "len(one_data)"
   ]
  },
  {
   "cell_type": "code",
   "execution_count": 8,
   "metadata": {},
   "outputs": [
    {
     "data": {
      "text/plain": [
       "'Thu\\nJan 2'"
      ]
     },
     "execution_count": 8,
     "metadata": {},
     "output_type": "execute_result"
    }
   ],
   "source": [
    "date = sample.find_element(\n",
    "    By.CLASS_NAME,\n",
    "    \"date\"\n",
    ").text\n",
    "date"
   ]
  },
  {
   "cell_type": "code",
   "execution_count": 9,
   "metadata": {},
   "outputs": [],
   "source": [
    "row = one_data[3]"
   ]
  },
  {
   "cell_type": "code",
   "execution_count": 24,
   "metadata": {},
   "outputs": [
    {
     "data": {
      "text/plain": [
       "'Medium Impact Expected'"
      ]
     },
     "execution_count": 24,
     "metadata": {},
     "output_type": "execute_result"
    }
   ],
   "source": [
    "row.find_element(\n",
    "    By.CSS_SELECTOR,\n",
    "    \"td.calendar__cell.calendar__impact span[title]\"\n",
    ").get_attribute(\"title\")"
   ]
  },
  {
   "cell_type": "code",
   "execution_count": 13,
   "metadata": {},
   "outputs": [],
   "source": [
    "row = one_data[3]\n",
    "\n",
    "row.find_element(By.CLASS_NAME, \"calendar__detail\").click()\n",
    "WebDriverWait(wd, 10).until(\n",
    "    EC.presence_of_all_elements_located((By.CLASS_NAME, \"flexposts__storydisplay-info\"))\n",
    ")\n",
    "wd.execute_script(\"window.stop();\")"
   ]
  },
  {
   "cell_type": "code",
   "execution_count": 8,
   "metadata": {},
   "outputs": [],
   "source": [
    "wd.refresh()"
   ]
  },
  {
   "cell_type": "code",
   "execution_count": 14,
   "metadata": {},
   "outputs": [
    {
     "data": {
      "text/plain": [
       "'https://www.forexfactory.com/calendar?range=jan1.2014-nov16.2024#detail=50456'"
      ]
     },
     "execution_count": 14,
     "metadata": {},
     "output_type": "execute_result"
    }
   ],
   "source": [
    "wd.current_url"
   ]
  },
  {
   "cell_type": "code",
   "execution_count": null,
   "metadata": {},
   "outputs": [],
   "source": []
  },
  {
   "cell_type": "code",
   "execution_count": 15,
   "metadata": {},
   "outputs": [],
   "source": [
    "updated_data_rows = wd.find_elements(\n",
    "    By.CLASS_NAME,\n",
    "    \"flexposts__storydisplay-info\"\n",
    ")"
   ]
  },
  {
   "cell_type": "code",
   "execution_count": 16,
   "metadata": {},
   "outputs": [
    {
     "data": {
      "text/plain": [
       "'https://www.forexfactory.com/news/464650-audusd-technicals-early-bears-overextending-on-china/hit'"
      ]
     },
     "execution_count": 16,
     "metadata": {},
     "output_type": "execute_result"
    }
   ],
   "source": [
    "updated_data_rows[0].find_element(\n",
    "    By.TAG_NAME,\n",
    "    \"a\"\n",
    ").get_attribute(\"href\")"
   ]
  },
  {
   "cell_type": "code",
   "execution_count": 6,
   "metadata": {},
   "outputs": [],
   "source": [
    "def generate_date_ranges(start_year, end_year):\n",
    "    # List of months and their respective end days in a normal year\n",
    "    month_days = {\n",
    "        1: 31, 2: 28, 3: 31, 4: 30, 5: 31, 6: 30,\n",
    "        7: 31, 8: 31, 9: 30, 10: 31, 11: 30, 12: 31\n",
    "    }\n",
    "    date_ranges = []\n",
    "\n",
    "    def is_leap_year(year):\n",
    "        return (year % 4 == 0 and year % 100 != 0) or (year % 400 == 0)\n",
    "\n",
    "    for year in range(start_year, end_year + 1):\n",
    "        for month in range(1, 13, 2):  # Iterate by steps of 2 months\n",
    "            # Determine if it's a leap year for February adjustment\n",
    "            if is_leap_year(year):\n",
    "                month_days[2] = 29\n",
    "            else:\n",
    "                month_days[2] = 28\n",
    "\n",
    "            # Start date of the range\n",
    "            start_date = f\"{datetime(year, month, 1):%b%d.%Y}\".lower()\n",
    "\n",
    "            # Calculate the end month and year\n",
    "            end_month = month + 1\n",
    "            end_year = year\n",
    "            if end_month > 12:  # Handle year wrap-around\n",
    "                end_month = 1\n",
    "                end_year += 1\n",
    "\n",
    "            # End date of the range\n",
    "            end_date = f\"{datetime(end_year, end_month, month_days[end_month]):%b%d.%Y}\".lower()\n",
    "\n",
    "            # Create the range string\n",
    "            date_range = f\"{start_date}-{end_date}\"\n",
    "            date_ranges.append(date_range)\n",
    "\n",
    "    return date_ranges"
   ]
  },
  {
   "cell_type": "code",
   "execution_count": 7,
   "metadata": {},
   "outputs": [],
   "source": [
    "# Generate the date ranges from 2014 to 2024\n",
    "ranges = generate_date_ranges(2014, 2024)"
   ]
  },
  {
   "cell_type": "code",
   "execution_count": 9,
   "metadata": {},
   "outputs": [
    {
     "data": {
      "text/plain": [
       "'2014'"
      ]
     },
     "execution_count": 9,
     "metadata": {},
     "output_type": "execute_result"
    }
   ],
   "source": [
    "ranges[0][-4:]"
   ]
  },
  {
   "cell_type": "code",
   "execution_count": 8,
   "metadata": {},
   "outputs": [
    {
     "name": "stdout",
     "output_type": "stream",
     "text": [
      "jan01.2014-feb28.2014\n",
      "mar01.2014-apr30.2014\n",
      "may01.2014-jun30.2014\n",
      "jul01.2014-aug31.2014\n",
      "sep01.2014-oct31.2014\n",
      "nov01.2014-dec31.2014\n",
      "jan01.2015-feb28.2015\n",
      "mar01.2015-apr30.2015\n",
      "may01.2015-jun30.2015\n",
      "jul01.2015-aug31.2015\n",
      "sep01.2015-oct31.2015\n",
      "nov01.2015-dec31.2015\n",
      "jan01.2016-feb29.2016\n",
      "mar01.2016-apr30.2016\n",
      "may01.2016-jun30.2016\n",
      "jul01.2016-aug31.2016\n",
      "sep01.2016-oct31.2016\n",
      "nov01.2016-dec31.2016\n",
      "jan01.2017-feb28.2017\n",
      "mar01.2017-apr30.2017\n",
      "may01.2017-jun30.2017\n",
      "jul01.2017-aug31.2017\n",
      "sep01.2017-oct31.2017\n",
      "nov01.2017-dec31.2017\n",
      "jan01.2018-feb28.2018\n",
      "mar01.2018-apr30.2018\n",
      "may01.2018-jun30.2018\n",
      "jul01.2018-aug31.2018\n",
      "sep01.2018-oct31.2018\n",
      "nov01.2018-dec31.2018\n",
      "jan01.2019-feb28.2019\n",
      "mar01.2019-apr30.2019\n",
      "may01.2019-jun30.2019\n",
      "jul01.2019-aug31.2019\n",
      "sep01.2019-oct31.2019\n",
      "nov01.2019-dec31.2019\n",
      "jan01.2020-feb29.2020\n",
      "mar01.2020-apr30.2020\n",
      "may01.2020-jun30.2020\n",
      "jul01.2020-aug31.2020\n",
      "sep01.2020-oct31.2020\n",
      "nov01.2020-dec31.2020\n",
      "jan01.2021-feb28.2021\n",
      "mar01.2021-apr30.2021\n",
      "may01.2021-jun30.2021\n",
      "jul01.2021-aug31.2021\n",
      "sep01.2021-oct31.2021\n",
      "nov01.2021-dec31.2021\n",
      "jan01.2022-feb28.2022\n",
      "mar01.2022-apr30.2022\n",
      "may01.2022-jun30.2022\n",
      "jul01.2022-aug31.2022\n",
      "sep01.2022-oct31.2022\n",
      "nov01.2022-dec31.2022\n",
      "jan01.2023-feb28.2023\n",
      "mar01.2023-apr30.2023\n",
      "may01.2023-jun30.2023\n",
      "jul01.2023-aug31.2023\n",
      "sep01.2023-oct31.2023\n",
      "nov01.2023-dec31.2023\n",
      "jan01.2024-feb29.2024\n",
      "mar01.2024-apr30.2024\n",
      "may01.2024-jun30.2024\n",
      "jul01.2024-aug31.2024\n",
      "sep01.2024-oct31.2024\n",
      "nov01.2024-dec31.2024\n"
     ]
    }
   ],
   "source": [
    "for r in ranges:\n",
    "    print(r)"
   ]
  },
  {
   "cell_type": "code",
   "execution_count": 25,
   "metadata": {},
   "outputs": [
    {
     "name": "stdout",
     "output_type": "stream",
     "text": [
      "yes\n"
     ]
    }
   ],
   "source": [
    "symbols = ['eur', 'usd']\n",
    "\n",
    "if 'eur' in symbols:\n",
    "    print('yes')"
   ]
  },
  {
   "cell_type": "code",
   "execution_count": 14,
   "metadata": {},
   "outputs": [],
   "source": [
    "# def __generate_date_ranges(start_year: int, end_year: int) -> list[str]:\n",
    "#     date_ranges = []\n",
    "\n",
    "#     # Start from the beginning of the start year\n",
    "#     current_date = datetime(start_year, 1, 1)\n",
    "\n",
    "#     # End at the end of the end year\n",
    "#     end_date = datetime(end_year, 12, 31)\n",
    "\n",
    "#     # Generate weekly ranges\n",
    "#     while current_date <= end_date:\n",
    "#         # Start of the week\n",
    "#         start_date_str = current_date.strftime(\"%b%d.%Y\").lower()\n",
    "\n",
    "#         # End of the week (7 days later, capped at end_date)\n",
    "#         end_of_week = current_date + timedelta(days=6)\n",
    "#         if end_of_week > end_date:\n",
    "#             end_of_week = end_date  # Ensure the range doesn't exceed the final date\n",
    "#         end_date_str = end_of_week.strftime(\"%b%d.%Y\").lower()\n",
    "\n",
    "#         # Add the range to the list\n",
    "#         date_ranges.append(f\"{start_date_str}-{end_date_str}\")\n",
    "\n",
    "#         # Move to the next week\n",
    "#         current_date += timedelta(days=7)\n",
    "\n",
    "#     return date_ranges"
   ]
  },
  {
   "cell_type": "code",
   "execution_count": 11,
   "metadata": {},
   "outputs": [],
   "source": [
    "# Generate the date ranges from 2014 to 2024\n",
    "ranges = __generate_date_ranges(2014, 2024)"
   ]
  },
  {
   "cell_type": "code",
   "execution_count": 10,
   "metadata": {},
   "outputs": [
    {
     "data": {
      "text/plain": [
       "574"
      ]
     },
     "execution_count": 10,
     "metadata": {},
     "output_type": "execute_result"
    }
   ],
   "source": [
    "len_ranges = len(ranges)\n",
    "len_ranges"
   ]
  },
  {
   "cell_type": "code",
   "execution_count": 12,
   "metadata": {},
   "outputs": [
    {
     "data": {
      "text/plain": [
       "['jan01.2014-jan07.2014',\n",
       " 'jan08.2014-jan14.2014',\n",
       " 'jan15.2014-jan21.2014',\n",
       " 'jan22.2014-jan28.2014',\n",
       " 'jan29.2014-feb04.2014',\n",
       " 'feb05.2014-feb11.2014',\n",
       " 'feb12.2014-feb18.2014',\n",
       " 'feb19.2014-feb25.2014',\n",
       " 'feb26.2014-mar04.2014',\n",
       " 'mar05.2014-mar11.2014',\n",
       " 'mar12.2014-mar18.2014',\n",
       " 'mar19.2014-mar25.2014',\n",
       " 'mar26.2014-apr01.2014',\n",
       " 'apr02.2014-apr08.2014',\n",
       " 'apr09.2014-apr15.2014',\n",
       " 'apr16.2014-apr22.2014',\n",
       " 'apr23.2014-apr29.2014',\n",
       " 'apr30.2014-may06.2014',\n",
       " 'may07.2014-may13.2014',\n",
       " 'may14.2014-may20.2014',\n",
       " 'may21.2014-may27.2014',\n",
       " 'may28.2014-jun03.2014',\n",
       " 'jun04.2014-jun10.2014',\n",
       " 'jun11.2014-jun17.2014',\n",
       " 'jun18.2014-jun24.2014',\n",
       " 'jun25.2014-jul01.2014',\n",
       " 'jul02.2014-jul08.2014',\n",
       " 'jul09.2014-jul15.2014',\n",
       " 'jul16.2014-jul22.2014',\n",
       " 'jul23.2014-jul29.2014',\n",
       " 'jul30.2014-aug05.2014',\n",
       " 'aug06.2014-aug12.2014',\n",
       " 'aug13.2014-aug19.2014',\n",
       " 'aug20.2014-aug26.2014',\n",
       " 'aug27.2014-sep02.2014',\n",
       " 'sep03.2014-sep09.2014',\n",
       " 'sep10.2014-sep16.2014',\n",
       " 'sep17.2014-sep23.2014',\n",
       " 'sep24.2014-sep30.2014',\n",
       " 'oct01.2014-oct07.2014',\n",
       " 'oct08.2014-oct14.2014',\n",
       " 'oct15.2014-oct21.2014',\n",
       " 'oct22.2014-oct28.2014',\n",
       " 'oct29.2014-nov04.2014',\n",
       " 'nov05.2014-nov11.2014',\n",
       " 'nov12.2014-nov18.2014',\n",
       " 'nov19.2014-nov25.2014',\n",
       " 'nov26.2014-dec02.2014',\n",
       " 'dec03.2014-dec09.2014',\n",
       " 'dec10.2014-dec16.2014',\n",
       " 'dec17.2014-dec23.2014',\n",
       " 'dec24.2014-dec30.2014',\n",
       " 'dec31.2014-jan06.2015',\n",
       " 'jan07.2015-jan13.2015',\n",
       " 'jan14.2015-jan20.2015',\n",
       " 'jan21.2015-jan27.2015',\n",
       " 'jan28.2015-feb03.2015',\n",
       " 'feb04.2015-feb10.2015',\n",
       " 'feb11.2015-feb17.2015',\n",
       " 'feb18.2015-feb24.2015',\n",
       " 'feb25.2015-mar03.2015',\n",
       " 'mar04.2015-mar10.2015',\n",
       " 'mar11.2015-mar17.2015',\n",
       " 'mar18.2015-mar24.2015',\n",
       " 'mar25.2015-mar31.2015',\n",
       " 'apr01.2015-apr07.2015',\n",
       " 'apr08.2015-apr14.2015',\n",
       " 'apr15.2015-apr21.2015',\n",
       " 'apr22.2015-apr28.2015',\n",
       " 'apr29.2015-may05.2015',\n",
       " 'may06.2015-may12.2015',\n",
       " 'may13.2015-may19.2015',\n",
       " 'may20.2015-may26.2015',\n",
       " 'may27.2015-jun02.2015',\n",
       " 'jun03.2015-jun09.2015',\n",
       " 'jun10.2015-jun16.2015',\n",
       " 'jun17.2015-jun23.2015',\n",
       " 'jun24.2015-jun30.2015',\n",
       " 'jul01.2015-jul07.2015',\n",
       " 'jul08.2015-jul14.2015',\n",
       " 'jul15.2015-jul21.2015',\n",
       " 'jul22.2015-jul28.2015',\n",
       " 'jul29.2015-aug04.2015',\n",
       " 'aug05.2015-aug11.2015',\n",
       " 'aug12.2015-aug18.2015',\n",
       " 'aug19.2015-aug25.2015',\n",
       " 'aug26.2015-sep01.2015',\n",
       " 'sep02.2015-sep08.2015',\n",
       " 'sep09.2015-sep15.2015',\n",
       " 'sep16.2015-sep22.2015',\n",
       " 'sep23.2015-sep29.2015',\n",
       " 'sep30.2015-oct06.2015',\n",
       " 'oct07.2015-oct13.2015',\n",
       " 'oct14.2015-oct20.2015',\n",
       " 'oct21.2015-oct27.2015',\n",
       " 'oct28.2015-nov03.2015',\n",
       " 'nov04.2015-nov10.2015',\n",
       " 'nov11.2015-nov17.2015',\n",
       " 'nov18.2015-nov24.2015',\n",
       " 'nov25.2015-dec01.2015']"
      ]
     },
     "execution_count": 12,
     "metadata": {},
     "output_type": "execute_result"
    }
   ],
   "source": [
    "ranges[:100]"
   ]
  },
  {
   "cell_type": "code",
   "execution_count": 15,
   "metadata": {},
   "outputs": [],
   "source": [
    "# clean date ranges\n",
    "def __generate_date_ranges(start_year: int, end_year: int) -> list[str]:\n",
    "    date_ranges = []\n",
    "\n",
    "    # Iterate year by year\n",
    "    for year in range(start_year, end_year + 1):\n",
    "        # Start at the beginning of the current year\n",
    "        current_date = datetime(year, 1, 1)\n",
    "        # End at the end of the current year\n",
    "        year_end_date = datetime(year, 12, 31)\n",
    "\n",
    "        # Generate weekly ranges within the year\n",
    "        while current_date <= year_end_date:\n",
    "            # Start of the week\n",
    "            start_date_str = current_date.strftime(\"%b%d.%Y\").lower()\n",
    "\n",
    "            # End of the week (7 days later, capped at year_end_date)\n",
    "            end_of_week = current_date + timedelta(days=6)\n",
    "            if end_of_week > year_end_date:\n",
    "                end_of_week = year_end_date  # Ensure the range doesn't exceed the year's final date\n",
    "            end_date_str = end_of_week.strftime(\"%b%d.%Y\").lower()\n",
    "\n",
    "            # Add the range to the list\n",
    "            date_ranges.append(f\"{start_date_str}-{end_date_str}\")\n",
    "\n",
    "            # Move to the next week\n",
    "            current_date += timedelta(days=7)\n",
    "\n",
    "    return date_ranges"
   ]
  },
  {
   "cell_type": "code",
   "execution_count": 16,
   "metadata": {},
   "outputs": [],
   "source": [
    "# Generate the date ranges from 2014 to 2024\n",
    "ranges = __generate_date_ranges(2014, 2024)"
   ]
  },
  {
   "cell_type": "code",
   "execution_count": 18,
   "metadata": {},
   "outputs": [
    {
     "data": {
      "text/plain": [
       "188"
      ]
     },
     "execution_count": 18,
     "metadata": {},
     "output_type": "execute_result"
    }
   ],
   "source": [
    "ranges.index('jul23.2017-jul29.2017')"
   ]
  },
  {
   "cell_type": "code",
   "execution_count": 20,
   "metadata": {},
   "outputs": [
    {
     "data": {
      "text/plain": [
       "['jul23.2017-jul29.2017',\n",
       " 'jul30.2017-aug05.2017',\n",
       " 'aug06.2017-aug12.2017',\n",
       " 'aug13.2017-aug19.2017',\n",
       " 'aug20.2017-aug26.2017',\n",
       " 'aug27.2017-sep02.2017',\n",
       " 'sep03.2017-sep09.2017',\n",
       " 'sep10.2017-sep16.2017',\n",
       " 'sep17.2017-sep23.2017',\n",
       " 'sep24.2017-sep30.2017',\n",
       " 'oct01.2017-oct07.2017',\n",
       " 'oct08.2017-oct14.2017',\n",
       " 'oct15.2017-oct21.2017',\n",
       " 'oct22.2017-oct28.2017',\n",
       " 'oct29.2017-nov04.2017',\n",
       " 'nov05.2017-nov11.2017',\n",
       " 'nov12.2017-nov18.2017',\n",
       " 'nov19.2017-nov25.2017',\n",
       " 'nov26.2017-dec02.2017',\n",
       " 'dec03.2017-dec09.2017',\n",
       " 'dec10.2017-dec16.2017',\n",
       " 'dec17.2017-dec23.2017',\n",
       " 'dec24.2017-dec30.2017',\n",
       " 'dec31.2017-dec31.2017',\n",
       " 'jan01.2018-jan07.2018',\n",
       " 'jan08.2018-jan14.2018',\n",
       " 'jan15.2018-jan21.2018',\n",
       " 'jan22.2018-jan28.2018',\n",
       " 'jan29.2018-feb04.2018',\n",
       " 'feb05.2018-feb11.2018',\n",
       " 'feb12.2018-feb18.2018',\n",
       " 'feb19.2018-feb25.2018',\n",
       " 'feb26.2018-mar04.2018',\n",
       " 'mar05.2018-mar11.2018',\n",
       " 'mar12.2018-mar18.2018',\n",
       " 'mar19.2018-mar25.2018',\n",
       " 'mar26.2018-apr01.2018',\n",
       " 'apr02.2018-apr08.2018',\n",
       " 'apr09.2018-apr15.2018',\n",
       " 'apr16.2018-apr22.2018',\n",
       " 'apr23.2018-apr29.2018',\n",
       " 'apr30.2018-may06.2018',\n",
       " 'may07.2018-may13.2018',\n",
       " 'may14.2018-may20.2018',\n",
       " 'may21.2018-may27.2018',\n",
       " 'may28.2018-jun03.2018',\n",
       " 'jun04.2018-jun10.2018',\n",
       " 'jun11.2018-jun17.2018',\n",
       " 'jun18.2018-jun24.2018',\n",
       " 'jun25.2018-jul01.2018',\n",
       " 'jul02.2018-jul08.2018',\n",
       " 'jul09.2018-jul15.2018',\n",
       " 'jul16.2018-jul22.2018',\n",
       " 'jul23.2018-jul29.2018',\n",
       " 'jul30.2018-aug05.2018',\n",
       " 'aug06.2018-aug12.2018',\n",
       " 'aug13.2018-aug19.2018',\n",
       " 'aug20.2018-aug26.2018',\n",
       " 'aug27.2018-sep02.2018',\n",
       " 'sep03.2018-sep09.2018',\n",
       " 'sep10.2018-sep16.2018',\n",
       " 'sep17.2018-sep23.2018',\n",
       " 'sep24.2018-sep30.2018',\n",
       " 'oct01.2018-oct07.2018',\n",
       " 'oct08.2018-oct14.2018',\n",
       " 'oct15.2018-oct21.2018',\n",
       " 'oct22.2018-oct28.2018',\n",
       " 'oct29.2018-nov04.2018',\n",
       " 'nov05.2018-nov11.2018',\n",
       " 'nov12.2018-nov18.2018',\n",
       " 'nov19.2018-nov25.2018',\n",
       " 'nov26.2018-dec02.2018',\n",
       " 'dec03.2018-dec09.2018',\n",
       " 'dec10.2018-dec16.2018',\n",
       " 'dec17.2018-dec23.2018',\n",
       " 'dec24.2018-dec30.2018',\n",
       " 'dec31.2018-dec31.2018',\n",
       " 'jan01.2019-jan07.2019',\n",
       " 'jan08.2019-jan14.2019',\n",
       " 'jan15.2019-jan21.2019',\n",
       " 'jan22.2019-jan28.2019',\n",
       " 'jan29.2019-feb04.2019',\n",
       " 'feb05.2019-feb11.2019',\n",
       " 'feb12.2019-feb18.2019',\n",
       " 'feb19.2019-feb25.2019',\n",
       " 'feb26.2019-mar04.2019',\n",
       " 'mar05.2019-mar11.2019',\n",
       " 'mar12.2019-mar18.2019',\n",
       " 'mar19.2019-mar25.2019',\n",
       " 'mar26.2019-apr01.2019',\n",
       " 'apr02.2019-apr08.2019',\n",
       " 'apr09.2019-apr15.2019',\n",
       " 'apr16.2019-apr22.2019',\n",
       " 'apr23.2019-apr29.2019',\n",
       " 'apr30.2019-may06.2019',\n",
       " 'may07.2019-may13.2019',\n",
       " 'may14.2019-may20.2019',\n",
       " 'may21.2019-may27.2019',\n",
       " 'may28.2019-jun03.2019',\n",
       " 'jun04.2019-jun10.2019',\n",
       " 'jun11.2019-jun17.2019',\n",
       " 'jun18.2019-jun24.2019',\n",
       " 'jun25.2019-jul01.2019',\n",
       " 'jul02.2019-jul08.2019',\n",
       " 'jul09.2019-jul15.2019',\n",
       " 'jul16.2019-jul22.2019',\n",
       " 'jul23.2019-jul29.2019',\n",
       " 'jul30.2019-aug05.2019',\n",
       " 'aug06.2019-aug12.2019',\n",
       " 'aug13.2019-aug19.2019',\n",
       " 'aug20.2019-aug26.2019',\n",
       " 'aug27.2019-sep02.2019',\n",
       " 'sep03.2019-sep09.2019',\n",
       " 'sep10.2019-sep16.2019',\n",
       " 'sep17.2019-sep23.2019',\n",
       " 'sep24.2019-sep30.2019',\n",
       " 'oct01.2019-oct07.2019',\n",
       " 'oct08.2019-oct14.2019',\n",
       " 'oct15.2019-oct21.2019',\n",
       " 'oct22.2019-oct28.2019',\n",
       " 'oct29.2019-nov04.2019',\n",
       " 'nov05.2019-nov11.2019',\n",
       " 'nov12.2019-nov18.2019',\n",
       " 'nov19.2019-nov25.2019',\n",
       " 'nov26.2019-dec02.2019',\n",
       " 'dec03.2019-dec09.2019',\n",
       " 'dec10.2019-dec16.2019',\n",
       " 'dec17.2019-dec23.2019',\n",
       " 'dec24.2019-dec30.2019',\n",
       " 'dec31.2019-dec31.2019',\n",
       " 'jan01.2020-jan07.2020',\n",
       " 'jan08.2020-jan14.2020',\n",
       " 'jan15.2020-jan21.2020',\n",
       " 'jan22.2020-jan28.2020',\n",
       " 'jan29.2020-feb04.2020',\n",
       " 'feb05.2020-feb11.2020',\n",
       " 'feb12.2020-feb18.2020',\n",
       " 'feb19.2020-feb25.2020',\n",
       " 'feb26.2020-mar03.2020',\n",
       " 'mar04.2020-mar10.2020',\n",
       " 'mar11.2020-mar17.2020',\n",
       " 'mar18.2020-mar24.2020',\n",
       " 'mar25.2020-mar31.2020',\n",
       " 'apr01.2020-apr07.2020',\n",
       " 'apr08.2020-apr14.2020',\n",
       " 'apr15.2020-apr21.2020',\n",
       " 'apr22.2020-apr28.2020',\n",
       " 'apr29.2020-may05.2020',\n",
       " 'may06.2020-may12.2020',\n",
       " 'may13.2020-may19.2020',\n",
       " 'may20.2020-may26.2020',\n",
       " 'may27.2020-jun02.2020',\n",
       " 'jun03.2020-jun09.2020',\n",
       " 'jun10.2020-jun16.2020',\n",
       " 'jun17.2020-jun23.2020',\n",
       " 'jun24.2020-jun30.2020',\n",
       " 'jul01.2020-jul07.2020',\n",
       " 'jul08.2020-jul14.2020',\n",
       " 'jul15.2020-jul21.2020',\n",
       " 'jul22.2020-jul28.2020',\n",
       " 'jul29.2020-aug04.2020',\n",
       " 'aug05.2020-aug11.2020',\n",
       " 'aug12.2020-aug18.2020',\n",
       " 'aug19.2020-aug25.2020',\n",
       " 'aug26.2020-sep01.2020',\n",
       " 'sep02.2020-sep08.2020',\n",
       " 'sep09.2020-sep15.2020',\n",
       " 'sep16.2020-sep22.2020',\n",
       " 'sep23.2020-sep29.2020',\n",
       " 'sep30.2020-oct06.2020',\n",
       " 'oct07.2020-oct13.2020',\n",
       " 'oct14.2020-oct20.2020',\n",
       " 'oct21.2020-oct27.2020',\n",
       " 'oct28.2020-nov03.2020',\n",
       " 'nov04.2020-nov10.2020',\n",
       " 'nov11.2020-nov17.2020',\n",
       " 'nov18.2020-nov24.2020',\n",
       " 'nov25.2020-dec01.2020',\n",
       " 'dec02.2020-dec08.2020',\n",
       " 'dec09.2020-dec15.2020',\n",
       " 'dec16.2020-dec22.2020',\n",
       " 'dec23.2020-dec29.2020',\n",
       " 'dec30.2020-dec31.2020',\n",
       " 'jan01.2021-jan07.2021',\n",
       " 'jan08.2021-jan14.2021',\n",
       " 'jan15.2021-jan21.2021',\n",
       " 'jan22.2021-jan28.2021',\n",
       " 'jan29.2021-feb04.2021',\n",
       " 'feb05.2021-feb11.2021',\n",
       " 'feb12.2021-feb18.2021',\n",
       " 'feb19.2021-feb25.2021',\n",
       " 'feb26.2021-mar04.2021',\n",
       " 'mar05.2021-mar11.2021',\n",
       " 'mar12.2021-mar18.2021',\n",
       " 'mar19.2021-mar25.2021',\n",
       " 'mar26.2021-apr01.2021',\n",
       " 'apr02.2021-apr08.2021',\n",
       " 'apr09.2021-apr15.2021',\n",
       " 'apr16.2021-apr22.2021',\n",
       " 'apr23.2021-apr29.2021',\n",
       " 'apr30.2021-may06.2021',\n",
       " 'may07.2021-may13.2021',\n",
       " 'may14.2021-may20.2021',\n",
       " 'may21.2021-may27.2021',\n",
       " 'may28.2021-jun03.2021',\n",
       " 'jun04.2021-jun10.2021',\n",
       " 'jun11.2021-jun17.2021',\n",
       " 'jun18.2021-jun24.2021',\n",
       " 'jun25.2021-jul01.2021',\n",
       " 'jul02.2021-jul08.2021',\n",
       " 'jul09.2021-jul15.2021',\n",
       " 'jul16.2021-jul22.2021',\n",
       " 'jul23.2021-jul29.2021',\n",
       " 'jul30.2021-aug05.2021',\n",
       " 'aug06.2021-aug12.2021',\n",
       " 'aug13.2021-aug19.2021',\n",
       " 'aug20.2021-aug26.2021',\n",
       " 'aug27.2021-sep02.2021',\n",
       " 'sep03.2021-sep09.2021',\n",
       " 'sep10.2021-sep16.2021',\n",
       " 'sep17.2021-sep23.2021',\n",
       " 'sep24.2021-sep30.2021',\n",
       " 'oct01.2021-oct07.2021',\n",
       " 'oct08.2021-oct14.2021',\n",
       " 'oct15.2021-oct21.2021',\n",
       " 'oct22.2021-oct28.2021',\n",
       " 'oct29.2021-nov04.2021',\n",
       " 'nov05.2021-nov11.2021',\n",
       " 'nov12.2021-nov18.2021',\n",
       " 'nov19.2021-nov25.2021',\n",
       " 'nov26.2021-dec02.2021',\n",
       " 'dec03.2021-dec09.2021',\n",
       " 'dec10.2021-dec16.2021',\n",
       " 'dec17.2021-dec23.2021',\n",
       " 'dec24.2021-dec30.2021',\n",
       " 'dec31.2021-dec31.2021',\n",
       " 'jan01.2022-jan07.2022',\n",
       " 'jan08.2022-jan14.2022',\n",
       " 'jan15.2022-jan21.2022',\n",
       " 'jan22.2022-jan28.2022',\n",
       " 'jan29.2022-feb04.2022',\n",
       " 'feb05.2022-feb11.2022',\n",
       " 'feb12.2022-feb18.2022',\n",
       " 'feb19.2022-feb25.2022',\n",
       " 'feb26.2022-mar04.2022',\n",
       " 'mar05.2022-mar11.2022',\n",
       " 'mar12.2022-mar18.2022',\n",
       " 'mar19.2022-mar25.2022',\n",
       " 'mar26.2022-apr01.2022',\n",
       " 'apr02.2022-apr08.2022',\n",
       " 'apr09.2022-apr15.2022',\n",
       " 'apr16.2022-apr22.2022',\n",
       " 'apr23.2022-apr29.2022',\n",
       " 'apr30.2022-may06.2022',\n",
       " 'may07.2022-may13.2022',\n",
       " 'may14.2022-may20.2022',\n",
       " 'may21.2022-may27.2022',\n",
       " 'may28.2022-jun03.2022',\n",
       " 'jun04.2022-jun10.2022',\n",
       " 'jun11.2022-jun17.2022',\n",
       " 'jun18.2022-jun24.2022',\n",
       " 'jun25.2022-jul01.2022',\n",
       " 'jul02.2022-jul08.2022',\n",
       " 'jul09.2022-jul15.2022',\n",
       " 'jul16.2022-jul22.2022',\n",
       " 'jul23.2022-jul29.2022',\n",
       " 'jul30.2022-aug05.2022',\n",
       " 'aug06.2022-aug12.2022',\n",
       " 'aug13.2022-aug19.2022',\n",
       " 'aug20.2022-aug26.2022',\n",
       " 'aug27.2022-sep02.2022',\n",
       " 'sep03.2022-sep09.2022',\n",
       " 'sep10.2022-sep16.2022',\n",
       " 'sep17.2022-sep23.2022',\n",
       " 'sep24.2022-sep30.2022',\n",
       " 'oct01.2022-oct07.2022',\n",
       " 'oct08.2022-oct14.2022',\n",
       " 'oct15.2022-oct21.2022',\n",
       " 'oct22.2022-oct28.2022',\n",
       " 'oct29.2022-nov04.2022',\n",
       " 'nov05.2022-nov11.2022',\n",
       " 'nov12.2022-nov18.2022',\n",
       " 'nov19.2022-nov25.2022',\n",
       " 'nov26.2022-dec02.2022',\n",
       " 'dec03.2022-dec09.2022',\n",
       " 'dec10.2022-dec16.2022',\n",
       " 'dec17.2022-dec23.2022',\n",
       " 'dec24.2022-dec30.2022',\n",
       " 'dec31.2022-dec31.2022',\n",
       " 'jan01.2023-jan07.2023',\n",
       " 'jan08.2023-jan14.2023',\n",
       " 'jan15.2023-jan21.2023',\n",
       " 'jan22.2023-jan28.2023',\n",
       " 'jan29.2023-feb04.2023',\n",
       " 'feb05.2023-feb11.2023',\n",
       " 'feb12.2023-feb18.2023',\n",
       " 'feb19.2023-feb25.2023',\n",
       " 'feb26.2023-mar04.2023',\n",
       " 'mar05.2023-mar11.2023',\n",
       " 'mar12.2023-mar18.2023',\n",
       " 'mar19.2023-mar25.2023',\n",
       " 'mar26.2023-apr01.2023',\n",
       " 'apr02.2023-apr08.2023',\n",
       " 'apr09.2023-apr15.2023',\n",
       " 'apr16.2023-apr22.2023',\n",
       " 'apr23.2023-apr29.2023',\n",
       " 'apr30.2023-may06.2023',\n",
       " 'may07.2023-may13.2023',\n",
       " 'may14.2023-may20.2023',\n",
       " 'may21.2023-may27.2023',\n",
       " 'may28.2023-jun03.2023',\n",
       " 'jun04.2023-jun10.2023',\n",
       " 'jun11.2023-jun17.2023',\n",
       " 'jun18.2023-jun24.2023',\n",
       " 'jun25.2023-jul01.2023',\n",
       " 'jul02.2023-jul08.2023',\n",
       " 'jul09.2023-jul15.2023',\n",
       " 'jul16.2023-jul22.2023',\n",
       " 'jul23.2023-jul29.2023',\n",
       " 'jul30.2023-aug05.2023',\n",
       " 'aug06.2023-aug12.2023',\n",
       " 'aug13.2023-aug19.2023',\n",
       " 'aug20.2023-aug26.2023',\n",
       " 'aug27.2023-sep02.2023',\n",
       " 'sep03.2023-sep09.2023',\n",
       " 'sep10.2023-sep16.2023',\n",
       " 'sep17.2023-sep23.2023',\n",
       " 'sep24.2023-sep30.2023',\n",
       " 'oct01.2023-oct07.2023',\n",
       " 'oct08.2023-oct14.2023',\n",
       " 'oct15.2023-oct21.2023',\n",
       " 'oct22.2023-oct28.2023',\n",
       " 'oct29.2023-nov04.2023',\n",
       " 'nov05.2023-nov11.2023',\n",
       " 'nov12.2023-nov18.2023',\n",
       " 'nov19.2023-nov25.2023',\n",
       " 'nov26.2023-dec02.2023',\n",
       " 'dec03.2023-dec09.2023',\n",
       " 'dec10.2023-dec16.2023',\n",
       " 'dec17.2023-dec23.2023',\n",
       " 'dec24.2023-dec30.2023',\n",
       " 'dec31.2023-dec31.2023',\n",
       " 'jan01.2024-jan07.2024',\n",
       " 'jan08.2024-jan14.2024',\n",
       " 'jan15.2024-jan21.2024',\n",
       " 'jan22.2024-jan28.2024',\n",
       " 'jan29.2024-feb04.2024',\n",
       " 'feb05.2024-feb11.2024',\n",
       " 'feb12.2024-feb18.2024',\n",
       " 'feb19.2024-feb25.2024',\n",
       " 'feb26.2024-mar03.2024',\n",
       " 'mar04.2024-mar10.2024',\n",
       " 'mar11.2024-mar17.2024',\n",
       " 'mar18.2024-mar24.2024',\n",
       " 'mar25.2024-mar31.2024',\n",
       " 'apr01.2024-apr07.2024',\n",
       " 'apr08.2024-apr14.2024',\n",
       " 'apr15.2024-apr21.2024',\n",
       " 'apr22.2024-apr28.2024',\n",
       " 'apr29.2024-may05.2024',\n",
       " 'may06.2024-may12.2024',\n",
       " 'may13.2024-may19.2024',\n",
       " 'may20.2024-may26.2024',\n",
       " 'may27.2024-jun02.2024',\n",
       " 'jun03.2024-jun09.2024',\n",
       " 'jun10.2024-jun16.2024',\n",
       " 'jun17.2024-jun23.2024',\n",
       " 'jun24.2024-jun30.2024',\n",
       " 'jul01.2024-jul07.2024',\n",
       " 'jul08.2024-jul14.2024',\n",
       " 'jul15.2024-jul21.2024',\n",
       " 'jul22.2024-jul28.2024',\n",
       " 'jul29.2024-aug04.2024',\n",
       " 'aug05.2024-aug11.2024',\n",
       " 'aug12.2024-aug18.2024',\n",
       " 'aug19.2024-aug25.2024',\n",
       " 'aug26.2024-sep01.2024',\n",
       " 'sep02.2024-sep08.2024',\n",
       " 'sep09.2024-sep15.2024',\n",
       " 'sep16.2024-sep22.2024',\n",
       " 'sep23.2024-sep29.2024',\n",
       " 'sep30.2024-oct06.2024',\n",
       " 'oct07.2024-oct13.2024',\n",
       " 'oct14.2024-oct20.2024',\n",
       " 'oct21.2024-oct27.2024',\n",
       " 'oct28.2024-nov03.2024',\n",
       " 'nov04.2024-nov10.2024',\n",
       " 'nov11.2024-nov17.2024',\n",
       " 'nov18.2024-nov24.2024',\n",
       " 'nov25.2024-dec01.2024',\n",
       " 'dec02.2024-dec08.2024',\n",
       " 'dec09.2024-dec15.2024',\n",
       " 'dec16.2024-dec22.2024',\n",
       " 'dec23.2024-dec29.2024',\n",
       " 'dec30.2024-dec31.2024']"
      ]
     },
     "execution_count": 20,
     "metadata": {},
     "output_type": "execute_result"
    }
   ],
   "source": [
    "ranges[188:]"
   ]
  },
  {
   "cell_type": "code",
   "execution_count": null,
   "metadata": {},
   "outputs": [],
   "source": []
  }
 ],
 "metadata": {
  "kernelspec": {
   "display_name": ".venv",
   "language": "python",
   "name": "python3"
  },
  "language_info": {
   "codemirror_mode": {
    "name": "ipython",
    "version": 3
   },
   "file_extension": ".py",
   "mimetype": "text/x-python",
   "name": "python",
   "nbconvert_exporter": "python",
   "pygments_lexer": "ipython3",
   "version": "3.10.11"
  }
 },
 "nbformat": 4,
 "nbformat_minor": 2
}
